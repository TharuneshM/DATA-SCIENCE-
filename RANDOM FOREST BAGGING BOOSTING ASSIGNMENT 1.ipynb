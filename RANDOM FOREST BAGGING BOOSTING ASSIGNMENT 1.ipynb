{
 "cells": [
  {
   "cell_type": "code",
   "execution_count": 13,
   "id": "b884048a",
   "metadata": {},
   "outputs": [],
   "source": [
    "import pandas as pd\n",
    "import matplotlib.pyplot as plt\n",
    "import numpy as np\n",
    "import seaborn as sns\n",
    "from sklearn.model_selection import train_test_split\n",
    "from sklearn.ensemble import RandomForestClassifier\n",
    "from sklearn.metrics import classification_report"
   ]
  },
  {
   "cell_type": "code",
   "execution_count": 3,
   "id": "c3b6f14a",
   "metadata": {},
   "outputs": [
    {
     "data": {
      "text/html": [
       "<div>\n",
       "<style scoped>\n",
       "    .dataframe tbody tr th:only-of-type {\n",
       "        vertical-align: middle;\n",
       "    }\n",
       "\n",
       "    .dataframe tbody tr th {\n",
       "        vertical-align: top;\n",
       "    }\n",
       "\n",
       "    .dataframe thead th {\n",
       "        text-align: right;\n",
       "    }\n",
       "</style>\n",
       "<table border=\"1\" class=\"dataframe\">\n",
       "  <thead>\n",
       "    <tr style=\"text-align: right;\">\n",
       "      <th></th>\n",
       "      <th>Sales</th>\n",
       "      <th>CompPrice</th>\n",
       "      <th>Income</th>\n",
       "      <th>Advertising</th>\n",
       "      <th>Population</th>\n",
       "      <th>Price</th>\n",
       "      <th>ShelveLoc</th>\n",
       "      <th>Age</th>\n",
       "      <th>Education</th>\n",
       "      <th>Urban</th>\n",
       "      <th>US</th>\n",
       "    </tr>\n",
       "  </thead>\n",
       "  <tbody>\n",
       "    <tr>\n",
       "      <th>0</th>\n",
       "      <td>9.50</td>\n",
       "      <td>138</td>\n",
       "      <td>73</td>\n",
       "      <td>11</td>\n",
       "      <td>276</td>\n",
       "      <td>120</td>\n",
       "      <td>Bad</td>\n",
       "      <td>42</td>\n",
       "      <td>17</td>\n",
       "      <td>Yes</td>\n",
       "      <td>Yes</td>\n",
       "    </tr>\n",
       "    <tr>\n",
       "      <th>1</th>\n",
       "      <td>11.22</td>\n",
       "      <td>111</td>\n",
       "      <td>48</td>\n",
       "      <td>16</td>\n",
       "      <td>260</td>\n",
       "      <td>83</td>\n",
       "      <td>Good</td>\n",
       "      <td>65</td>\n",
       "      <td>10</td>\n",
       "      <td>Yes</td>\n",
       "      <td>Yes</td>\n",
       "    </tr>\n",
       "    <tr>\n",
       "      <th>2</th>\n",
       "      <td>10.06</td>\n",
       "      <td>113</td>\n",
       "      <td>35</td>\n",
       "      <td>10</td>\n",
       "      <td>269</td>\n",
       "      <td>80</td>\n",
       "      <td>Medium</td>\n",
       "      <td>59</td>\n",
       "      <td>12</td>\n",
       "      <td>Yes</td>\n",
       "      <td>Yes</td>\n",
       "    </tr>\n",
       "    <tr>\n",
       "      <th>3</th>\n",
       "      <td>7.40</td>\n",
       "      <td>117</td>\n",
       "      <td>100</td>\n",
       "      <td>4</td>\n",
       "      <td>466</td>\n",
       "      <td>97</td>\n",
       "      <td>Medium</td>\n",
       "      <td>55</td>\n",
       "      <td>14</td>\n",
       "      <td>Yes</td>\n",
       "      <td>Yes</td>\n",
       "    </tr>\n",
       "    <tr>\n",
       "      <th>4</th>\n",
       "      <td>4.15</td>\n",
       "      <td>141</td>\n",
       "      <td>64</td>\n",
       "      <td>3</td>\n",
       "      <td>340</td>\n",
       "      <td>128</td>\n",
       "      <td>Bad</td>\n",
       "      <td>38</td>\n",
       "      <td>13</td>\n",
       "      <td>Yes</td>\n",
       "      <td>No</td>\n",
       "    </tr>\n",
       "  </tbody>\n",
       "</table>\n",
       "</div>"
      ],
      "text/plain": [
       "   Sales  CompPrice  Income  Advertising  Population  Price ShelveLoc  Age  \\\n",
       "0   9.50        138      73           11         276    120       Bad   42   \n",
       "1  11.22        111      48           16         260     83      Good   65   \n",
       "2  10.06        113      35           10         269     80    Medium   59   \n",
       "3   7.40        117     100            4         466     97    Medium   55   \n",
       "4   4.15        141      64            3         340    128       Bad   38   \n",
       "\n",
       "   Education Urban   US  \n",
       "0         17   Yes  Yes  \n",
       "1         10   Yes  Yes  \n",
       "2         12   Yes  Yes  \n",
       "3         14   Yes  Yes  \n",
       "4         13   Yes   No  "
      ]
     },
     "execution_count": 3,
     "metadata": {},
     "output_type": "execute_result"
    }
   ],
   "source": [
    "data=pd.read_csv(\"Company_Data.csv\")\n",
    "data.head(5)"
   ]
  },
  {
   "cell_type": "markdown",
   "id": "691b9112",
   "metadata": {},
   "source": [
    "# EDA ON THE DATA"
   ]
  },
  {
   "cell_type": "code",
   "execution_count": 4,
   "id": "bde2bdc2",
   "metadata": {},
   "outputs": [],
   "source": [
    "from sklearn.preprocessing import LabelEncoder \n",
    "label_encoder=LabelEncoder()"
   ]
  },
  {
   "cell_type": "code",
   "execution_count": 5,
   "id": "53ccc6a5",
   "metadata": {},
   "outputs": [],
   "source": [
    "data[\"ShelveLoc\"]=label_encoder.fit_transform(data[\"ShelveLoc\"])"
   ]
  },
  {
   "cell_type": "code",
   "execution_count": 6,
   "id": "b23e9550",
   "metadata": {},
   "outputs": [],
   "source": [
    "data[\"Urban\"]=label_encoder.fit_transform(data[\"Urban\"])"
   ]
  },
  {
   "cell_type": "code",
   "execution_count": 7,
   "id": "69ac8d0a",
   "metadata": {},
   "outputs": [],
   "source": [
    "data[\"US\"]=label_encoder.fit_transform(data[\"US\"])"
   ]
  },
  {
   "cell_type": "code",
   "execution_count": 8,
   "id": "75581bb2",
   "metadata": {},
   "outputs": [],
   "source": [
    "data[\"sale\"]=pd.cut(data[\"Sales\"],bins=[-1,5,10,17],labels=[\"LOW\",\"MEDIUM\",\"HIGH\"])"
   ]
  },
  {
   "cell_type": "code",
   "execution_count": 9,
   "id": "beeb69ec",
   "metadata": {},
   "outputs": [],
   "source": [
    "data[\"sale_type\"]=label_encoder.fit_transform(data[\"sale\"])"
   ]
  },
  {
   "cell_type": "code",
   "execution_count": 10,
   "id": "8782e35a",
   "metadata": {},
   "outputs": [
    {
     "data": {
      "text/html": [
       "<div>\n",
       "<style scoped>\n",
       "    .dataframe tbody tr th:only-of-type {\n",
       "        vertical-align: middle;\n",
       "    }\n",
       "\n",
       "    .dataframe tbody tr th {\n",
       "        vertical-align: top;\n",
       "    }\n",
       "\n",
       "    .dataframe thead th {\n",
       "        text-align: right;\n",
       "    }\n",
       "</style>\n",
       "<table border=\"1\" class=\"dataframe\">\n",
       "  <thead>\n",
       "    <tr style=\"text-align: right;\">\n",
       "      <th></th>\n",
       "      <th>Sales</th>\n",
       "      <th>CompPrice</th>\n",
       "      <th>Income</th>\n",
       "      <th>Advertising</th>\n",
       "      <th>Population</th>\n",
       "      <th>Price</th>\n",
       "      <th>ShelveLoc</th>\n",
       "      <th>Age</th>\n",
       "      <th>Education</th>\n",
       "      <th>Urban</th>\n",
       "      <th>US</th>\n",
       "      <th>sale</th>\n",
       "      <th>sale_type</th>\n",
       "    </tr>\n",
       "  </thead>\n",
       "  <tbody>\n",
       "    <tr>\n",
       "      <th>0</th>\n",
       "      <td>9.50</td>\n",
       "      <td>138</td>\n",
       "      <td>73</td>\n",
       "      <td>11</td>\n",
       "      <td>276</td>\n",
       "      <td>120</td>\n",
       "      <td>0</td>\n",
       "      <td>42</td>\n",
       "      <td>17</td>\n",
       "      <td>1</td>\n",
       "      <td>1</td>\n",
       "      <td>MEDIUM</td>\n",
       "      <td>2</td>\n",
       "    </tr>\n",
       "    <tr>\n",
       "      <th>1</th>\n",
       "      <td>11.22</td>\n",
       "      <td>111</td>\n",
       "      <td>48</td>\n",
       "      <td>16</td>\n",
       "      <td>260</td>\n",
       "      <td>83</td>\n",
       "      <td>1</td>\n",
       "      <td>65</td>\n",
       "      <td>10</td>\n",
       "      <td>1</td>\n",
       "      <td>1</td>\n",
       "      <td>HIGH</td>\n",
       "      <td>0</td>\n",
       "    </tr>\n",
       "    <tr>\n",
       "      <th>2</th>\n",
       "      <td>10.06</td>\n",
       "      <td>113</td>\n",
       "      <td>35</td>\n",
       "      <td>10</td>\n",
       "      <td>269</td>\n",
       "      <td>80</td>\n",
       "      <td>2</td>\n",
       "      <td>59</td>\n",
       "      <td>12</td>\n",
       "      <td>1</td>\n",
       "      <td>1</td>\n",
       "      <td>HIGH</td>\n",
       "      <td>0</td>\n",
       "    </tr>\n",
       "    <tr>\n",
       "      <th>3</th>\n",
       "      <td>7.40</td>\n",
       "      <td>117</td>\n",
       "      <td>100</td>\n",
       "      <td>4</td>\n",
       "      <td>466</td>\n",
       "      <td>97</td>\n",
       "      <td>2</td>\n",
       "      <td>55</td>\n",
       "      <td>14</td>\n",
       "      <td>1</td>\n",
       "      <td>1</td>\n",
       "      <td>MEDIUM</td>\n",
       "      <td>2</td>\n",
       "    </tr>\n",
       "    <tr>\n",
       "      <th>4</th>\n",
       "      <td>4.15</td>\n",
       "      <td>141</td>\n",
       "      <td>64</td>\n",
       "      <td>3</td>\n",
       "      <td>340</td>\n",
       "      <td>128</td>\n",
       "      <td>0</td>\n",
       "      <td>38</td>\n",
       "      <td>13</td>\n",
       "      <td>1</td>\n",
       "      <td>0</td>\n",
       "      <td>LOW</td>\n",
       "      <td>1</td>\n",
       "    </tr>\n",
       "    <tr>\n",
       "      <th>...</th>\n",
       "      <td>...</td>\n",
       "      <td>...</td>\n",
       "      <td>...</td>\n",
       "      <td>...</td>\n",
       "      <td>...</td>\n",
       "      <td>...</td>\n",
       "      <td>...</td>\n",
       "      <td>...</td>\n",
       "      <td>...</td>\n",
       "      <td>...</td>\n",
       "      <td>...</td>\n",
       "      <td>...</td>\n",
       "      <td>...</td>\n",
       "    </tr>\n",
       "    <tr>\n",
       "      <th>395</th>\n",
       "      <td>12.57</td>\n",
       "      <td>138</td>\n",
       "      <td>108</td>\n",
       "      <td>17</td>\n",
       "      <td>203</td>\n",
       "      <td>128</td>\n",
       "      <td>1</td>\n",
       "      <td>33</td>\n",
       "      <td>14</td>\n",
       "      <td>1</td>\n",
       "      <td>1</td>\n",
       "      <td>HIGH</td>\n",
       "      <td>0</td>\n",
       "    </tr>\n",
       "    <tr>\n",
       "      <th>396</th>\n",
       "      <td>6.14</td>\n",
       "      <td>139</td>\n",
       "      <td>23</td>\n",
       "      <td>3</td>\n",
       "      <td>37</td>\n",
       "      <td>120</td>\n",
       "      <td>2</td>\n",
       "      <td>55</td>\n",
       "      <td>11</td>\n",
       "      <td>0</td>\n",
       "      <td>1</td>\n",
       "      <td>MEDIUM</td>\n",
       "      <td>2</td>\n",
       "    </tr>\n",
       "    <tr>\n",
       "      <th>397</th>\n",
       "      <td>7.41</td>\n",
       "      <td>162</td>\n",
       "      <td>26</td>\n",
       "      <td>12</td>\n",
       "      <td>368</td>\n",
       "      <td>159</td>\n",
       "      <td>2</td>\n",
       "      <td>40</td>\n",
       "      <td>18</td>\n",
       "      <td>1</td>\n",
       "      <td>1</td>\n",
       "      <td>MEDIUM</td>\n",
       "      <td>2</td>\n",
       "    </tr>\n",
       "    <tr>\n",
       "      <th>398</th>\n",
       "      <td>5.94</td>\n",
       "      <td>100</td>\n",
       "      <td>79</td>\n",
       "      <td>7</td>\n",
       "      <td>284</td>\n",
       "      <td>95</td>\n",
       "      <td>0</td>\n",
       "      <td>50</td>\n",
       "      <td>12</td>\n",
       "      <td>1</td>\n",
       "      <td>1</td>\n",
       "      <td>MEDIUM</td>\n",
       "      <td>2</td>\n",
       "    </tr>\n",
       "    <tr>\n",
       "      <th>399</th>\n",
       "      <td>9.71</td>\n",
       "      <td>134</td>\n",
       "      <td>37</td>\n",
       "      <td>0</td>\n",
       "      <td>27</td>\n",
       "      <td>120</td>\n",
       "      <td>1</td>\n",
       "      <td>49</td>\n",
       "      <td>16</td>\n",
       "      <td>1</td>\n",
       "      <td>1</td>\n",
       "      <td>MEDIUM</td>\n",
       "      <td>2</td>\n",
       "    </tr>\n",
       "  </tbody>\n",
       "</table>\n",
       "<p>400 rows × 13 columns</p>\n",
       "</div>"
      ],
      "text/plain": [
       "     Sales  CompPrice  Income  Advertising  Population  Price  ShelveLoc  Age  \\\n",
       "0     9.50        138      73           11         276    120          0   42   \n",
       "1    11.22        111      48           16         260     83          1   65   \n",
       "2    10.06        113      35           10         269     80          2   59   \n",
       "3     7.40        117     100            4         466     97          2   55   \n",
       "4     4.15        141      64            3         340    128          0   38   \n",
       "..     ...        ...     ...          ...         ...    ...        ...  ...   \n",
       "395  12.57        138     108           17         203    128          1   33   \n",
       "396   6.14        139      23            3          37    120          2   55   \n",
       "397   7.41        162      26           12         368    159          2   40   \n",
       "398   5.94        100      79            7         284     95          0   50   \n",
       "399   9.71        134      37            0          27    120          1   49   \n",
       "\n",
       "     Education  Urban  US    sale  sale_type  \n",
       "0           17      1   1  MEDIUM          2  \n",
       "1           10      1   1    HIGH          0  \n",
       "2           12      1   1    HIGH          0  \n",
       "3           14      1   1  MEDIUM          2  \n",
       "4           13      1   0     LOW          1  \n",
       "..         ...    ...  ..     ...        ...  \n",
       "395         14      1   1    HIGH          0  \n",
       "396         11      0   1  MEDIUM          2  \n",
       "397         18      1   1  MEDIUM          2  \n",
       "398         12      1   1  MEDIUM          2  \n",
       "399         16      1   1  MEDIUM          2  \n",
       "\n",
       "[400 rows x 13 columns]"
      ]
     },
     "execution_count": 10,
     "metadata": {},
     "output_type": "execute_result"
    }
   ],
   "source": [
    "data"
   ]
  },
  {
   "cell_type": "code",
   "execution_count": 11,
   "id": "49be0e55",
   "metadata": {},
   "outputs": [
    {
     "data": {
      "text/plain": [
       "2    245\n",
       "0     78\n",
       "1     77\n",
       "Name: sale_type, dtype: int64"
      ]
     },
     "execution_count": 11,
     "metadata": {},
     "output_type": "execute_result"
    }
   ],
   "source": [
    "data[\"sale_type\"].value_counts()"
   ]
  },
  {
   "cell_type": "code",
   "execution_count": 14,
   "id": "8c97fa6b",
   "metadata": {},
   "outputs": [
    {
     "name": "stderr",
     "output_type": "stream",
     "text": [
      "D:\\New folder\\lib\\site-packages\\seaborn\\distributions.py:2619: FutureWarning: `distplot` is a deprecated function and will be removed in a future version. Please adapt your code to use either `displot` (a figure-level function with similar flexibility) or `histplot` (an axes-level function for histograms).\n",
      "  warnings.warn(msg, FutureWarning)\n"
     ]
    },
    {
     "data": {
      "text/plain": [
       "Text(0.5, 0, 'sale_type : 0-HIGH 1-LOW 2-MEDIUM')"
      ]
     },
     "execution_count": 14,
     "metadata": {},
     "output_type": "execute_result"
    },
    {
     "data": {
      "image/png": "[encoded data removed]",
      "text/plain": [
       "<Figure size 640x480 with 1 Axes>"
      ]
     },
     "metadata": {},
     "output_type": "display_data"
    }
   ],
   "source": [
    "sns.distplot(data[\"sale_type\"])\n",
    "plt.xlabel(\"sale_type : 0-HIGH 1-LOW 2-MEDIUM\")"
   ]
  },
  {
   "cell_type": "code",
   "execution_count": 15,
   "id": "53959e44",
   "metadata": {},
   "outputs": [
    {
     "data": {
      "text/plain": [
       "Text(0.5, 0, 'ShelveLoc : 0-bad 1-good 2-medium ')"
      ]
     },
     "execution_count": 15,
     "metadata": {},
     "output_type": "execute_result"
    },
    {
     "data": {
      "image/png": "[encoded data removed]",
      "text/plain": [
       "<Figure size 640x480 with 1 Axes>"
      ]
     },
     "metadata": {},
     "output_type": "display_data"
    }
   ],
   "source": [
    "sns.scatterplot(x=\"ShelveLoc\",y=\"Sales\",data=data,hue=\"Urban\")\n",
    "plt.xlabel(\"ShelveLoc : 0-bad 1-good 2-medium \")"
   ]
  },
  {
   "cell_type": "markdown",
   "id": "d4dde638",
   "metadata": {},
   "source": [
    "0-HIGH 1-LOW 2-MEDIUM"
   ]
  },
  {
   "cell_type": "code",
   "execution_count": 16,
   "id": "66c50097",
   "metadata": {},
   "outputs": [
    {
     "name": "stdout",
     "output_type": "stream",
     "text": [
      "<class 'pandas.core.frame.DataFrame'>\n",
      "RangeIndex: 400 entries, 0 to 399\n",
      "Data columns (total 13 columns):\n",
      " #   Column       Non-Null Count  Dtype   \n",
      "---  ------       --------------  -----   \n",
      " 0   Sales        400 non-null    float64 \n",
      " 1   CompPrice    400 non-null    int64   \n",
      " 2   Income       400 non-null    int64   \n",
      " 3   Advertising  400 non-null    int64   \n",
      " 4   Population   400 non-null    int64   \n",
      " 5   Price        400 non-null    int64   \n",
      " 6   ShelveLoc    400 non-null    int32   \n",
      " 7   Age          400 non-null    int64   \n",
      " 8   Education    400 non-null    int64   \n",
      " 9   Urban        400 non-null    int32   \n",
      " 10  US           400 non-null    int32   \n",
      " 11  sale         400 non-null    category\n",
      " 12  sale_type    400 non-null    int32   \n",
      "dtypes: category(1), float64(1), int32(4), int64(7)\n",
      "memory usage: 31.9 KB\n"
     ]
    }
   ],
   "source": [
    "data.info()"
   ]
  },
  {
   "cell_type": "code",
   "execution_count": 17,
   "id": "f16e7b0b",
   "metadata": {},
   "outputs": [],
   "source": [
    "from sklearn.preprocessing import MinMaxScaler"
   ]
  },
  {
   "cell_type": "code",
   "execution_count": 18,
   "id": "f32c3049",
   "metadata": {},
   "outputs": [],
   "source": [
    "scaler=MinMaxScaler()\n",
    "x=scaler.fit_transform(data.iloc[:,1:11])"
   ]
  },
  {
   "cell_type": "code",
   "execution_count": 19,
   "id": "b0aa7bfa",
   "metadata": {},
   "outputs": [
    {
     "data": {
      "text/plain": [
       "0      2\n",
       "1      0\n",
       "2      0\n",
       "3      2\n",
       "4      1\n",
       "      ..\n",
       "395    0\n",
       "396    2\n",
       "397    2\n",
       "398    2\n",
       "399    2\n",
       "Name: sale_type, Length: 400, dtype: int32"
      ]
     },
     "execution_count": 19,
     "metadata": {},
     "output_type": "execute_result"
    }
   ],
   "source": [
    "y=data.iloc[:,-1]\n",
    "y"
   ]
  },
  {
   "cell_type": "markdown",
   "id": "0db55a9c",
   "metadata": {},
   "source": [
    "# MODEL BUILDING"
   ]
  },
  {
   "cell_type": "code",
   "execution_count": 20,
   "id": "daa355ba",
   "metadata": {},
   "outputs": [],
   "source": [
    "x_train,x_test,y_train,y_test=train_test_split(x,y,test_size=0.2,random_state=42)"
   ]
  },
  {
   "cell_type": "markdown",
   "id": "3242c597",
   "metadata": {},
   "source": [
    "RANDOM FOREST"
   ]
  },
  {
   "cell_type": "code",
   "execution_count": 21,
   "id": "61c8ceda",
   "metadata": {},
   "outputs": [],
   "source": [
    "model=RandomForestClassifier(n_estimators=100,random_state=42)"
   ]
  },
  {
   "cell_type": "code",
   "execution_count": 22,
   "id": "a4807849",
   "metadata": {},
   "outputs": [
    {
     "data": {
      "text/plain": [
       "RandomForestClassifier(random_state=42)"
      ]
     },
     "execution_count": 22,
     "metadata": {},
     "output_type": "execute_result"
    }
   ],
   "source": [
    "model.fit(x_train,y_train)"
   ]
  },
  {
   "cell_type": "code",
   "execution_count": 23,
   "id": "90c2c770",
   "metadata": {},
   "outputs": [
    {
     "data": {
      "text/plain": [
       "array([0.12784206, 0.11532906, 0.09319459, 0.11699275, 0.20214396,\n",
       "       0.09548355, 0.14022263, 0.07505269, 0.01742721, 0.0163115 ])"
      ]
     },
     "execution_count": 23,
     "metadata": {},
     "output_type": "execute_result"
    }
   ],
   "source": [
    "importances=model.feature_importances_\n",
    "importances"
   ]
  },
  {
   "cell_type": "markdown",
   "id": "941fb5a6",
   "metadata": {},
   "source": [
    "# FEATURE IMPORTANCES OF THE MODEL"
   ]
  },
  {
   "cell_type": "code",
   "execution_count": 24,
   "id": "7fedc8cd",
   "metadata": {},
   "outputs": [
    {
     "data": {
      "text/plain": [
       "array([4, 6, 0, 3, 1, 5, 2, 7, 8, 9], dtype=int64)"
      ]
     },
     "execution_count": 24,
     "metadata": {},
     "output_type": "execute_result"
    }
   ],
   "source": [
    "indices = np.argsort(importances)[::-1]\n",
    "indices"
   ]
  },
  {
   "cell_type": "code",
   "execution_count": 25,
   "id": "82f11e7d",
   "metadata": {},
   "outputs": [
    {
     "data": {
      "text/plain": [
       "([<matplotlib.axis.XTick at 0x1b245b4bdc0>,\n",
       "  <matplotlib.axis.XTick at 0x1b245b4bd90>,\n",
       "  <matplotlib.axis.XTick at 0x1b245b4b4c0>,\n",
       "  <matplotlib.axis.XTick at 0x1b245b8ab80>,\n",
       "  <matplotlib.axis.XTick at 0x1b245b96310>,\n",
       "  <matplotlib.axis.XTick at 0x1b245b96a60>,\n",
       "  <matplotlib.axis.XTick at 0x1b245b9c1f0>,\n",
       "  <matplotlib.axis.XTick at 0x1b245b96e50>,\n",
       "  <matplotlib.axis.XTick at 0x1b245b8ae20>,\n",
       "  <matplotlib.axis.XTick at 0x1b245b9cb80>],\n",
       " [Text(0, 0, 'Price'),\n",
       "  Text(1, 0, 'Age'),\n",
       "  Text(2, 0, 'CompPrice'),\n",
       "  Text(3, 0, 'Population'),\n",
       "  Text(4, 0, 'Income'),\n",
       "  Text(5, 0, 'ShelveLoc'),\n",
       "  Text(6, 0, 'Advertising'),\n",
       "  Text(7, 0, 'Education'),\n",
       "  Text(8, 0, 'Urban'),\n",
       "  Text(9, 0, 'US')])"
      ]
     },
     "execution_count": 25,
     "metadata": {},
     "output_type": "execute_result"
    },
    {
     "data": {
      "image/png": "[encoded data removed]",
      "text/plain": [
       "<Figure size 640x480 with 1 Axes>"
      ]
     },
     "metadata": {},
     "output_type": "display_data"
    }
   ],
   "source": [
    "plt.ylabel('Feature importance')\n",
    "plt.bar(range(x_train.shape[1]), \n",
    "        importances[indices],\n",
    "        align='center')\n",
    "\n",
    "feat_labels = data.iloc[:,1:11].columns\n",
    "plt.xticks(range(x_train.shape[1]), \n",
    "           feat_labels[indices],rotation=90)"
   ]
  },
  {
   "cell_type": "code",
   "execution_count": 26,
   "id": "121cc4c5",
   "metadata": {},
   "outputs": [
    {
     "data": {
      "text/html": [
       "<div>\n",
       "<style scoped>\n",
       "    .dataframe tbody tr th:only-of-type {\n",
       "        vertical-align: middle;\n",
       "    }\n",
       "\n",
       "    .dataframe tbody tr th {\n",
       "        vertical-align: top;\n",
       "    }\n",
       "\n",
       "    .dataframe thead th {\n",
       "        text-align: right;\n",
       "    }\n",
       "</style>\n",
       "<table border=\"1\" class=\"dataframe\">\n",
       "  <thead>\n",
       "    <tr style=\"text-align: right;\">\n",
       "      <th></th>\n",
       "      <th>Features</th>\n",
       "      <th>Importances</th>\n",
       "    </tr>\n",
       "  </thead>\n",
       "  <tbody>\n",
       "    <tr>\n",
       "      <th>4</th>\n",
       "      <td>Price</td>\n",
       "      <td>20.214396</td>\n",
       "    </tr>\n",
       "    <tr>\n",
       "      <th>6</th>\n",
       "      <td>Age</td>\n",
       "      <td>14.022263</td>\n",
       "    </tr>\n",
       "    <tr>\n",
       "      <th>0</th>\n",
       "      <td>CompPrice</td>\n",
       "      <td>12.784206</td>\n",
       "    </tr>\n",
       "    <tr>\n",
       "      <th>3</th>\n",
       "      <td>Population</td>\n",
       "      <td>11.699275</td>\n",
       "    </tr>\n",
       "    <tr>\n",
       "      <th>1</th>\n",
       "      <td>Income</td>\n",
       "      <td>11.532906</td>\n",
       "    </tr>\n",
       "    <tr>\n",
       "      <th>5</th>\n",
       "      <td>ShelveLoc</td>\n",
       "      <td>9.548355</td>\n",
       "    </tr>\n",
       "    <tr>\n",
       "      <th>2</th>\n",
       "      <td>Advertising</td>\n",
       "      <td>9.319459</td>\n",
       "    </tr>\n",
       "    <tr>\n",
       "      <th>7</th>\n",
       "      <td>Education</td>\n",
       "      <td>7.505269</td>\n",
       "    </tr>\n",
       "    <tr>\n",
       "      <th>8</th>\n",
       "      <td>Urban</td>\n",
       "      <td>1.742721</td>\n",
       "    </tr>\n",
       "    <tr>\n",
       "      <th>9</th>\n",
       "      <td>US</td>\n",
       "      <td>1.631150</td>\n",
       "    </tr>\n",
       "  </tbody>\n",
       "</table>\n",
       "</div>"
      ],
      "text/plain": [
       "      Features  Importances\n",
       "4        Price    20.214396\n",
       "6          Age    14.022263\n",
       "0    CompPrice    12.784206\n",
       "3   Population    11.699275\n",
       "1       Income    11.532906\n",
       "5    ShelveLoc     9.548355\n",
       "2  Advertising     9.319459\n",
       "7    Education     7.505269\n",
       "8        Urban     1.742721\n",
       "9           US     1.631150"
      ]
     },
     "execution_count": 26,
     "metadata": {},
     "output_type": "execute_result"
    }
   ],
   "source": [
    "imp_df=pd.DataFrame({\"Features\":data.iloc[:,1:11].columns,\"Importances\":importances*100})\n",
    "imp_df.sort_values(by=\"Importances\",ascending=False)"
   ]
  },
  {
   "cell_type": "code",
   "execution_count": 27,
   "id": "9501f6c4",
   "metadata": {},
   "outputs": [
    {
     "data": {
      "text/plain": [
       "array([2, 1, 2, 2, 2, 2, 2, 2, 2, 2, 2, 2, 2, 2, 2, 2, 2, 0, 2, 2, 2, 2,\n",
       "       2, 2, 2, 2, 2, 2, 2, 1, 0, 0, 2, 2, 2, 2, 2, 2, 2, 2, 1, 2, 0, 2,\n",
       "       2, 2, 2, 2, 2, 2, 0, 2, 2, 2, 2, 1, 2, 2, 0, 2, 2, 2, 2, 2, 2, 2,\n",
       "       2, 2, 2, 0, 2, 2, 2, 1, 2, 2, 2, 2, 2, 2])"
      ]
     },
     "execution_count": 27,
     "metadata": {},
     "output_type": "execute_result"
    }
   ],
   "source": [
    "pred=model.predict(x_test)\n",
    "pred"
   ]
  },
  {
   "cell_type": "code",
   "execution_count": 28,
   "id": "000a59ce",
   "metadata": {},
   "outputs": [
    {
     "data": {
      "text/plain": [
       "73.75"
      ]
     },
     "execution_count": 28,
     "metadata": {},
     "output_type": "execute_result"
    }
   ],
   "source": [
    "np.mean(pred==y_test)*100"
   ]
  },
  {
   "cell_type": "code",
   "execution_count": 29,
   "id": "a248a85d",
   "metadata": {},
   "outputs": [
    {
     "name": "stdout",
     "output_type": "stream",
     "text": [
      "              precision    recall  f1-score   support\n",
      "\n",
      "           0       1.00      0.37      0.54        19\n",
      "           1       1.00      0.36      0.53        14\n",
      "           2       0.69      1.00      0.82        47\n",
      "\n",
      "    accuracy                           0.74        80\n",
      "   macro avg       0.90      0.58      0.63        80\n",
      "weighted avg       0.82      0.74      0.70        80\n",
      "\n"
     ]
    }
   ],
   "source": [
    "print(classification_report(y_test,pred))"
   ]
  },
  {
   "cell_type": "markdown",
   "id": "3e406ef3",
   "metadata": {},
   "source": [
    "BAGGING MODEL WITH HYPERPARAMETER TUNING"
   ]
  },
  {
   "cell_type": "code",
   "execution_count": 39,
   "id": "0cf6d894",
   "metadata": {},
   "outputs": [],
   "source": [
    "from sklearn.ensemble import BaggingClassifier\n",
    "from sklearn.model_selection import GridSearchCV\n",
    "from sklearn.tree import DecisionTreeClassifier\n",
    "from sklearn.linear_model import LogisticRegression"
   ]
  },
  {
   "cell_type": "code",
   "execution_count": 53,
   "id": "ff31fed5",
   "metadata": {},
   "outputs": [],
   "source": [
    "cart=BaggingClassifier()\n",
    "param_grid=[{\"base_estimator\":[LogisticRegression(),DecisionTreeClassifier()],\"n_estimators\":[100,200,300],\"random_state\":[0,10,42]}]"
   ]
  },
  {
   "cell_type": "code",
   "execution_count": 54,
   "id": "0eae79e8",
   "metadata": {},
   "outputs": [
    {
     "data": {
      "text/plain": [
       "GridSearchCV(cv=5, estimator=BaggingClassifier(),\n",
       "             param_grid=[{'base_estimator': [LogisticRegression(),\n",
       "                                             DecisionTreeClassifier()],\n",
       "                          'n_estimators': [100, 200, 300],\n",
       "                          'random_state': [0, 10, 42]}])"
      ]
     },
     "execution_count": 54,
     "metadata": {},
     "output_type": "execute_result"
    }
   ],
   "source": [
    "grid=GridSearchCV(cart,param_grid,cv=5)\n",
    "grid.fit(x_train,y_train)"
   ]
  },
  {
   "cell_type": "code",
   "execution_count": 55,
   "id": "10a4f7b8",
   "metadata": {},
   "outputs": [
    {
     "data": {
      "text/plain": [
       "({'base_estimator': DecisionTreeClassifier(),\n",
       "  'n_estimators': 200,\n",
       "  'random_state': 42},\n",
       " 0.653125)"
      ]
     },
     "execution_count": 55,
     "metadata": {},
     "output_type": "execute_result"
    }
   ],
   "source": [
    "grid.best_params_,grid.best_score_"
   ]
  },
  {
   "cell_type": "markdown",
   "id": "cc117265",
   "metadata": {},
   "source": [
    "building model with best hyper parameters"
   ]
  },
  {
   "cell_type": "code",
   "execution_count": 56,
   "id": "fb6b08f1",
   "metadata": {},
   "outputs": [],
   "source": [
    "bagging_model=BaggingClassifier(base_estimator=DecisionTreeClassifier(),n_estimators=300,random_state=42)"
   ]
  },
  {
   "cell_type": "markdown",
   "id": "0c2e30fa",
   "metadata": {},
   "source": [
    "BOOSTING MODEL WITH HYPER PARAMETER TUNING"
   ]
  },
  {
   "cell_type": "code",
   "execution_count": 57,
   "id": "6a00d802",
   "metadata": {},
   "outputs": [],
   "source": [
    "from sklearn.ensemble import AdaBoostClassifier"
   ]
  },
  {
   "cell_type": "code",
   "execution_count": 58,
   "id": "ac339c74",
   "metadata": {},
   "outputs": [
    {
     "data": {
      "text/plain": [
       "GridSearchCV(cv=5, estimator=AdaBoostClassifier(),\n",
       "             param_grid=[{'base_estimator': [LogisticRegression(),\n",
       "                                             DecisionTreeClassifier()],\n",
       "                          'n_estimators': [50, 100, 200, 300],\n",
       "                          'random_state': [0, 10, 42]}])"
      ]
     },
     "execution_count": 58,
     "metadata": {},
     "output_type": "execute_result"
    }
   ],
   "source": [
    "boost=AdaBoostClassifier()\n",
    "param_grid=[{\"base_estimator\":[LogisticRegression(),DecisionTreeClassifier()],\"n_estimators\":[50,100,200,300],\"random_state\":[0,10,42]}]\n",
    "grids=GridSearchCV(boost,param_grid,cv=5)\n",
    "grids.fit(x_train,y_train)"
   ]
  },
  {
   "cell_type": "code",
   "execution_count": 61,
   "id": "643b490e",
   "metadata": {},
   "outputs": [
    {
     "data": {
      "text/plain": [
       "({'base_estimator': LogisticRegression(),\n",
       "  'n_estimators': 200,\n",
       "  'random_state': 0},\n",
       " 0.63125)"
      ]
     },
     "execution_count": 61,
     "metadata": {},
     "output_type": "execute_result"
    }
   ],
   "source": [
    "grids.best_params_,grids.best_score_"
   ]
  },
  {
   "cell_type": "markdown",
   "id": "c64e9733",
   "metadata": {},
   "source": [
    "building model with best hyper parameters"
   ]
  },
  {
   "cell_type": "code",
   "execution_count": 63,
   "id": "6e8e4049",
   "metadata": {},
   "outputs": [],
   "source": [
    "boost_model=AdaBoostClassifier(base_estimator=LogisticRegression(),n_estimators=200,random_state=0)"
   ]
  }
 ],
 "metadata": {
  "kernelspec": {
   "display_name": "Python 3 (ipykernel)",
   "language": "python",
   "name": "python3"
  },
  "language_info": {
   "codemirror_mode": {
    "name": "ipython",
    "version": 3
   },
   "file_extension": ".py",
   "mimetype": "text/x-python",
   "name": "python",
   "nbconvert_exporter": "python",
   "pygments_lexer": "ipython3",
   "version": "3.9.13"
  }
 },
 "nbformat": 4,
 "nbformat_minor": 5
}
