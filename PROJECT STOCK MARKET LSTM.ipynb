{
 "cells": [
  {
   "cell_type": "code",
   "execution_count": 1,
   "id": "ad810a3f",
   "metadata": {},
   "outputs": [],
   "source": [
    "from datetime import date\n",
    "from nsepy import get_history\n",
    "import pandas as pd\n",
    "import numpy as np\n",
    "import matplotlib.pyplot as plt\n",
    "import seaborn as sns\n",
    "import warnings\n",
    "warnings.filterwarnings('ignore')"
   ]
  },
  {
   "cell_type": "code",
   "execution_count": 2,
   "id": "5a4015d5",
   "metadata": {},
   "outputs": [],
   "source": [
    "symbol=\"MRF\"\n",
    "start=date(2012,1,1)\n",
    "end=date(2023,3,1)"
   ]
  },
  {
   "cell_type": "code",
   "execution_count": 3,
   "id": "a4e9ecfe",
   "metadata": {},
   "outputs": [],
   "source": [
    "df=get_history(symbol=symbol,start=start,end=end)"
   ]
  },
  {
   "cell_type": "code",
   "execution_count": 4,
   "id": "f3df516f",
   "metadata": {},
   "outputs": [
    {
     "data": {
      "text/html": [
       "<div>\n",
       "<style scoped>\n",
       "    .dataframe tbody tr th:only-of-type {\n",
       "        vertical-align: middle;\n",
       "    }\n",
       "\n",
       "    .dataframe tbody tr th {\n",
       "        vertical-align: top;\n",
       "    }\n",
       "\n",
       "    .dataframe thead th {\n",
       "        text-align: right;\n",
       "    }\n",
       "</style>\n",
       "<table border=\"1\" class=\"dataframe\">\n",
       "  <thead>\n",
       "    <tr style=\"text-align: right;\">\n",
       "      <th></th>\n",
       "      <th>Symbol</th>\n",
       "      <th>Series</th>\n",
       "      <th>Prev Close</th>\n",
       "      <th>Open</th>\n",
       "      <th>High</th>\n",
       "      <th>Low</th>\n",
       "      <th>Last</th>\n",
       "      <th>Close</th>\n",
       "      <th>VWAP</th>\n",
       "      <th>Volume</th>\n",
       "      <th>Turnover</th>\n",
       "      <th>Trades</th>\n",
       "      <th>Deliverable Volume</th>\n",
       "      <th>%Deliverble</th>\n",
       "    </tr>\n",
       "    <tr>\n",
       "      <th>Date</th>\n",
       "      <th></th>\n",
       "      <th></th>\n",
       "      <th></th>\n",
       "      <th></th>\n",
       "      <th></th>\n",
       "      <th></th>\n",
       "      <th></th>\n",
       "      <th></th>\n",
       "      <th></th>\n",
       "      <th></th>\n",
       "      <th></th>\n",
       "      <th></th>\n",
       "      <th></th>\n",
       "      <th></th>\n",
       "    </tr>\n",
       "  </thead>\n",
       "  <tbody>\n",
       "    <tr>\n",
       "      <th>2012-01-02</th>\n",
       "      <td>MRF</td>\n",
       "      <td>EQ</td>\n",
       "      <td>6979.20</td>\n",
       "      <td>6980.0</td>\n",
       "      <td>7040.00</td>\n",
       "      <td>6871.1</td>\n",
       "      <td>7006.0</td>\n",
       "      <td>6943.05</td>\n",
       "      <td>6935.99</td>\n",
       "      <td>4210</td>\n",
       "      <td>2.920052e+12</td>\n",
       "      <td>1563</td>\n",
       "      <td>872</td>\n",
       "      <td>0.2071</td>\n",
       "    </tr>\n",
       "    <tr>\n",
       "      <th>2012-01-03</th>\n",
       "      <td>MRF</td>\n",
       "      <td>EQ</td>\n",
       "      <td>6943.05</td>\n",
       "      <td>6950.0</td>\n",
       "      <td>7130.00</td>\n",
       "      <td>6950.0</td>\n",
       "      <td>7070.0</td>\n",
       "      <td>7069.05</td>\n",
       "      <td>7074.42</td>\n",
       "      <td>12459</td>\n",
       "      <td>8.814023e+12</td>\n",
       "      <td>2447</td>\n",
       "      <td>7479</td>\n",
       "      <td>0.6003</td>\n",
       "    </tr>\n",
       "    <tr>\n",
       "      <th>2012-01-04</th>\n",
       "      <td>MRF</td>\n",
       "      <td>EQ</td>\n",
       "      <td>7069.05</td>\n",
       "      <td>7090.0</td>\n",
       "      <td>7100.00</td>\n",
       "      <td>6981.0</td>\n",
       "      <td>6982.0</td>\n",
       "      <td>7011.50</td>\n",
       "      <td>7041.24</td>\n",
       "      <td>3368</td>\n",
       "      <td>2.371490e+12</td>\n",
       "      <td>1171</td>\n",
       "      <td>939</td>\n",
       "      <td>0.2788</td>\n",
       "    </tr>\n",
       "    <tr>\n",
       "      <th>2012-01-05</th>\n",
       "      <td>MRF</td>\n",
       "      <td>EQ</td>\n",
       "      <td>7011.50</td>\n",
       "      <td>7021.0</td>\n",
       "      <td>7087.55</td>\n",
       "      <td>6915.0</td>\n",
       "      <td>6934.0</td>\n",
       "      <td>6956.85</td>\n",
       "      <td>7033.22</td>\n",
       "      <td>15716</td>\n",
       "      <td>1.105341e+13</td>\n",
       "      <td>1520</td>\n",
       "      <td>6980</td>\n",
       "      <td>0.4441</td>\n",
       "    </tr>\n",
       "    <tr>\n",
       "      <th>2012-01-06</th>\n",
       "      <td>MRF</td>\n",
       "      <td>EQ</td>\n",
       "      <td>6956.85</td>\n",
       "      <td>6930.0</td>\n",
       "      <td>6999.00</td>\n",
       "      <td>6891.0</td>\n",
       "      <td>6974.0</td>\n",
       "      <td>6957.75</td>\n",
       "      <td>6943.01</td>\n",
       "      <td>2814</td>\n",
       "      <td>1.953763e+12</td>\n",
       "      <td>1447</td>\n",
       "      <td>481</td>\n",
       "      <td>0.1709</td>\n",
       "    </tr>\n",
       "  </tbody>\n",
       "</table>\n",
       "</div>"
      ],
      "text/plain": [
       "           Symbol Series  Prev Close    Open     High     Low    Last  \\\n",
       "Date                                                                    \n",
       "2012-01-02    MRF     EQ     6979.20  6980.0  7040.00  6871.1  7006.0   \n",
       "2012-01-03    MRF     EQ     6943.05  6950.0  7130.00  6950.0  7070.0   \n",
       "2012-01-04    MRF     EQ     7069.05  7090.0  7100.00  6981.0  6982.0   \n",
       "2012-01-05    MRF     EQ     7011.50  7021.0  7087.55  6915.0  6934.0   \n",
       "2012-01-06    MRF     EQ     6956.85  6930.0  6999.00  6891.0  6974.0   \n",
       "\n",
       "              Close     VWAP  Volume      Turnover  Trades  \\\n",
       "Date                                                         \n",
       "2012-01-02  6943.05  6935.99    4210  2.920052e+12    1563   \n",
       "2012-01-03  7069.05  7074.42   12459  8.814023e+12    2447   \n",
       "2012-01-04  7011.50  7041.24    3368  2.371490e+12    1171   \n",
       "2012-01-05  6956.85  7033.22   15716  1.105341e+13    1520   \n",
       "2012-01-06  6957.75  6943.01    2814  1.953763e+12    1447   \n",
       "\n",
       "            Deliverable Volume  %Deliverble  \n",
       "Date                                         \n",
       "2012-01-02                 872       0.2071  \n",
       "2012-01-03                7479       0.6003  \n",
       "2012-01-04                 939       0.2788  \n",
       "2012-01-05                6980       0.4441  \n",
       "2012-01-06                 481       0.1709  "
      ]
     },
     "execution_count": 4,
     "metadata": {},
     "output_type": "execute_result"
    }
   ],
   "source": [
    "df.head()"
   ]
  },
  {
   "cell_type": "code",
   "execution_count": 5,
   "id": "5c1170fa",
   "metadata": {},
   "outputs": [],
   "source": [
    "df.reset_index(inplace=True)"
   ]
  },
  {
   "cell_type": "code",
   "execution_count": 6,
   "id": "1178bab9",
   "metadata": {},
   "outputs": [],
   "source": [
    "#converting object column to datetime \n",
    "df[\"Date\"]=pd.to_datetime(df[\"Date\"])"
   ]
  },
  {
   "cell_type": "code",
   "execution_count": 7,
   "id": "471faacf",
   "metadata": {},
   "outputs": [
    {
     "data": {
      "text/html": [
       "<div>\n",
       "<style scoped>\n",
       "    .dataframe tbody tr th:only-of-type {\n",
       "        vertical-align: middle;\n",
       "    }\n",
       "\n",
       "    .dataframe tbody tr th {\n",
       "        vertical-align: top;\n",
       "    }\n",
       "\n",
       "    .dataframe thead th {\n",
       "        text-align: right;\n",
       "    }\n",
       "</style>\n",
       "<table border=\"1\" class=\"dataframe\">\n",
       "  <thead>\n",
       "    <tr style=\"text-align: right;\">\n",
       "      <th></th>\n",
       "      <th>Date</th>\n",
       "      <th>Prev Close</th>\n",
       "      <th>Open</th>\n",
       "      <th>High</th>\n",
       "      <th>Low</th>\n",
       "      <th>Last</th>\n",
       "      <th>Close</th>\n",
       "      <th>VWAP</th>\n",
       "      <th>Volume</th>\n",
       "      <th>Turnover</th>\n",
       "      <th>Trades</th>\n",
       "      <th>Deliverable Volume</th>\n",
       "      <th>%Deliverble</th>\n",
       "    </tr>\n",
       "  </thead>\n",
       "  <tbody>\n",
       "    <tr>\n",
       "      <th>0</th>\n",
       "      <td>2012-01-02</td>\n",
       "      <td>6979.20</td>\n",
       "      <td>6980.0</td>\n",
       "      <td>7040.00</td>\n",
       "      <td>6871.1</td>\n",
       "      <td>7006.0</td>\n",
       "      <td>6943.05</td>\n",
       "      <td>6935.99</td>\n",
       "      <td>4210</td>\n",
       "      <td>2.920052e+12</td>\n",
       "      <td>1563</td>\n",
       "      <td>872</td>\n",
       "      <td>0.2071</td>\n",
       "    </tr>\n",
       "    <tr>\n",
       "      <th>1</th>\n",
       "      <td>2012-01-03</td>\n",
       "      <td>6943.05</td>\n",
       "      <td>6950.0</td>\n",
       "      <td>7130.00</td>\n",
       "      <td>6950.0</td>\n",
       "      <td>7070.0</td>\n",
       "      <td>7069.05</td>\n",
       "      <td>7074.42</td>\n",
       "      <td>12459</td>\n",
       "      <td>8.814023e+12</td>\n",
       "      <td>2447</td>\n",
       "      <td>7479</td>\n",
       "      <td>0.6003</td>\n",
       "    </tr>\n",
       "    <tr>\n",
       "      <th>2</th>\n",
       "      <td>2012-01-04</td>\n",
       "      <td>7069.05</td>\n",
       "      <td>7090.0</td>\n",
       "      <td>7100.00</td>\n",
       "      <td>6981.0</td>\n",
       "      <td>6982.0</td>\n",
       "      <td>7011.50</td>\n",
       "      <td>7041.24</td>\n",
       "      <td>3368</td>\n",
       "      <td>2.371490e+12</td>\n",
       "      <td>1171</td>\n",
       "      <td>939</td>\n",
       "      <td>0.2788</td>\n",
       "    </tr>\n",
       "    <tr>\n",
       "      <th>3</th>\n",
       "      <td>2012-01-05</td>\n",
       "      <td>7011.50</td>\n",
       "      <td>7021.0</td>\n",
       "      <td>7087.55</td>\n",
       "      <td>6915.0</td>\n",
       "      <td>6934.0</td>\n",
       "      <td>6956.85</td>\n",
       "      <td>7033.22</td>\n",
       "      <td>15716</td>\n",
       "      <td>1.105341e+13</td>\n",
       "      <td>1520</td>\n",
       "      <td>6980</td>\n",
       "      <td>0.4441</td>\n",
       "    </tr>\n",
       "    <tr>\n",
       "      <th>4</th>\n",
       "      <td>2012-01-06</td>\n",
       "      <td>6956.85</td>\n",
       "      <td>6930.0</td>\n",
       "      <td>6999.00</td>\n",
       "      <td>6891.0</td>\n",
       "      <td>6974.0</td>\n",
       "      <td>6957.75</td>\n",
       "      <td>6943.01</td>\n",
       "      <td>2814</td>\n",
       "      <td>1.953763e+12</td>\n",
       "      <td>1447</td>\n",
       "      <td>481</td>\n",
       "      <td>0.1709</td>\n",
       "    </tr>\n",
       "  </tbody>\n",
       "</table>\n",
       "</div>"
      ],
      "text/plain": [
       "        Date  Prev Close    Open     High     Low    Last    Close     VWAP  \\\n",
       "0 2012-01-02     6979.20  6980.0  7040.00  6871.1  7006.0  6943.05  6935.99   \n",
       "1 2012-01-03     6943.05  6950.0  7130.00  6950.0  7070.0  7069.05  7074.42   \n",
       "2 2012-01-04     7069.05  7090.0  7100.00  6981.0  6982.0  7011.50  7041.24   \n",
       "3 2012-01-05     7011.50  7021.0  7087.55  6915.0  6934.0  6956.85  7033.22   \n",
       "4 2012-01-06     6956.85  6930.0  6999.00  6891.0  6974.0  6957.75  6943.01   \n",
       "\n",
       "   Volume      Turnover  Trades  Deliverable Volume  %Deliverble  \n",
       "0    4210  2.920052e+12    1563                 872       0.2071  \n",
       "1   12459  8.814023e+12    2447                7479       0.6003  \n",
       "2    3368  2.371490e+12    1171                 939       0.2788  \n",
       "3   15716  1.105341e+13    1520                6980       0.4441  \n",
       "4    2814  1.953763e+12    1447                 481       0.1709  "
      ]
     },
     "execution_count": 7,
     "metadata": {},
     "output_type": "execute_result"
    }
   ],
   "source": [
    "#dropping columns symbol and series\n",
    "df.drop([\"Symbol\",\"Series\"],axis=1,inplace=True)\n",
    "df.head()"
   ]
  },
  {
   "cell_type": "code",
   "execution_count": 8,
   "id": "a0773378",
   "metadata": {},
   "outputs": [],
   "source": [
    "df1=df.reset_index()['Close']"
   ]
  },
  {
   "cell_type": "code",
   "execution_count": 9,
   "id": "cccd2aad",
   "metadata": {},
   "outputs": [
    {
     "data": {
      "text/plain": [
       "0        6943.05\n",
       "1        7069.05\n",
       "2        7011.50\n",
       "3        6956.85\n",
       "4        6957.75\n",
       "          ...   \n",
       "2764    86730.85\n",
       "2765    86800.70\n",
       "2766    85143.10\n",
       "2767    85256.60\n",
       "2768    86068.60\n",
       "Name: Close, Length: 2769, dtype: float64"
      ]
     },
     "execution_count": 9,
     "metadata": {},
     "output_type": "execute_result"
    }
   ],
   "source": [
    "df1"
   ]
  },
  {
   "cell_type": "code",
   "execution_count": 10,
   "id": "5355faaf",
   "metadata": {},
   "outputs": [
    {
     "data": {
      "text/plain": [
       "[<matplotlib.lines.Line2D at 0x1661d119ac0>]"
      ]
     },
     "execution_count": 10,
     "metadata": {},
     "output_type": "execute_result"
    },
    {
     "data": {
      "image/png": "[encoded data removed]",
      "text/plain": [
       "<Figure size 640x480 with 1 Axes>"
      ]
     },
     "metadata": {},
     "output_type": "display_data"
    }
   ],
   "source": [
    "import matplotlib.pyplot as plt\n",
    "plt.plot(df1)"
   ]
  },
  {
   "cell_type": "code",
   "execution_count": 11,
   "id": "77670487",
   "metadata": {},
   "outputs": [],
   "source": [
    "### LSTM are sensitive to the scale of the data. so we apply MinMax scaler "
   ]
  },
  {
   "cell_type": "code",
   "execution_count": 12,
   "id": "709a415a",
   "metadata": {},
   "outputs": [],
   "source": [
    "import numpy as np"
   ]
  },
  {
   "cell_type": "code",
   "execution_count": 13,
   "id": "4b38bd36",
   "metadata": {},
   "outputs": [
    {
     "data": {
      "text/plain": [
       "0        6943.05\n",
       "1        7069.05\n",
       "2        7011.50\n",
       "3        6956.85\n",
       "4        6957.75\n",
       "          ...   \n",
       "2764    86730.85\n",
       "2765    86800.70\n",
       "2766    85143.10\n",
       "2767    85256.60\n",
       "2768    86068.60\n",
       "Name: Close, Length: 2769, dtype: float64"
      ]
     },
     "execution_count": 13,
     "metadata": {},
     "output_type": "execute_result"
    }
   ],
   "source": [
    "df1"
   ]
  },
  {
   "cell_type": "code",
   "execution_count": 14,
   "id": "4eefadaa",
   "metadata": {},
   "outputs": [],
   "source": [
    "from sklearn.preprocessing import MinMaxScaler\n",
    "scaler=MinMaxScaler(feature_range=(0,1))\n",
    "df1=scaler.fit_transform(np.array(df1).reshape(-1,1))"
   ]
  },
  {
   "cell_type": "code",
   "execution_count": 15,
   "id": "066b52a9",
   "metadata": {},
   "outputs": [
    {
     "name": "stdout",
     "output_type": "stream",
     "text": [
      "[[0.00000000e+00]\n",
      " [1.39952105e-03]\n",
      " [7.60295366e-04]\n",
      " ...\n",
      " [8.68592193e-01]\n",
      " [8.69852873e-01]\n",
      " [8.78872008e-01]]\n"
     ]
    }
   ],
   "source": [
    "print(df1)"
   ]
  },
  {
   "cell_type": "code",
   "execution_count": 16,
   "id": "6037265a",
   "metadata": {},
   "outputs": [],
   "source": [
    "##splitting dataset into train and test split\n",
    "training_size=int(len(df1)*0.70)\n",
    "test_size=len(df1)-training_size\n",
    "train_data,test_data=df1[0:training_size,:],df1[training_size:len(df1),:1]"
   ]
  },
  {
   "cell_type": "code",
   "execution_count": 17,
   "id": "4ba2c639",
   "metadata": {},
   "outputs": [
    {
     "data": {
      "text/plain": [
       "(1938, 831)"
      ]
     },
     "execution_count": 17,
     "metadata": {},
     "output_type": "execute_result"
    }
   ],
   "source": [
    "training_size,test_size"
   ]
  },
  {
   "cell_type": "code",
   "execution_count": 18,
   "id": "4a5b032f",
   "metadata": {},
   "outputs": [
    {
     "data": {
      "text/plain": [
       "array([[0.        ],\n",
       "       [0.00139952],\n",
       "       [0.0007603 ],\n",
       "       ...,\n",
       "       [0.64675755],\n",
       "       [0.64367139],\n",
       "       [0.65234009]])"
      ]
     },
     "execution_count": 18,
     "metadata": {},
     "output_type": "execute_result"
    }
   ],
   "source": [
    "train_data"
   ]
  },
  {
   "cell_type": "code",
   "execution_count": 19,
   "id": "63028772",
   "metadata": {},
   "outputs": [],
   "source": [
    "import numpy\n",
    "# convert an array of values into a dataset matrix\n",
    "def create_dataset(dataset, time_step=1):\n",
    "\tdataX, dataY = [], []\n",
    "\tfor i in range(len(dataset)-time_step-1):\n",
    "\t\ta = dataset[i:(i+time_step), 0]   ###i=0, 0,1,2,3-----99   100 \n",
    "\t\tdataX.append(a)\n",
    "\t\tdataY.append(dataset[i + time_step, 0])\n",
    "\treturn numpy.array(dataX), numpy.array(dataY)"
   ]
  },
  {
   "cell_type": "code",
   "execution_count": 20,
   "id": "a6133380",
   "metadata": {},
   "outputs": [],
   "source": [
    "# reshape into X=t,t+1,t+2,t+3 and Y=t+4\n",
    "time_step = 150\n",
    "X_train, y_train = create_dataset(train_data, time_step)\n",
    "X_test, ytest = create_dataset(test_data, time_step)"
   ]
  },
  {
   "cell_type": "code",
   "execution_count": 21,
   "id": "9775815f",
   "metadata": {},
   "outputs": [
    {
     "name": "stdout",
     "output_type": "stream",
     "text": [
      "(1787, 150)\n",
      "(1787,)\n"
     ]
    },
    {
     "data": {
      "text/plain": [
       "(None, None)"
      ]
     },
     "execution_count": 21,
     "metadata": {},
     "output_type": "execute_result"
    }
   ],
   "source": [
    "print(X_train.shape), print(y_train.shape)"
   ]
  },
  {
   "cell_type": "code",
   "execution_count": 22,
   "id": "cb694523",
   "metadata": {},
   "outputs": [
    {
     "name": "stdout",
     "output_type": "stream",
     "text": [
      "(680, 150)\n",
      "(680,)\n"
     ]
    },
    {
     "data": {
      "text/plain": [
       "(None, None)"
      ]
     },
     "execution_count": 22,
     "metadata": {},
     "output_type": "execute_result"
    }
   ],
   "source": [
    "print(X_test.shape), print(ytest.shape)"
   ]
  },
  {
   "cell_type": "code",
   "execution_count": 23,
   "id": "12796118",
   "metadata": {},
   "outputs": [],
   "source": [
    "# reshape input to be [samples, time steps, features] which is required for LSTM\n",
    "X_train =X_train.reshape(X_train.shape[0],X_train.shape[1] , 1)\n",
    "X_test = X_test.reshape(X_test.shape[0],X_test.shape[1] , 1)"
   ]
  },
  {
   "cell_type": "code",
   "execution_count": 51,
   "id": "10c758bd",
   "metadata": {},
   "outputs": [
    {
     "data": {
      "text/plain": [
       "array([[[0.00000000e+00],\n",
       "        [1.39952105e-03],\n",
       "        [7.60295366e-04],\n",
       "        ...,\n",
       "        [3.12626346e-02],\n",
       "        [2.94254855e-02],\n",
       "        [3.10321579e-02]],\n",
       "\n",
       "       [[1.39952105e-03],\n",
       "        [7.60295366e-04],\n",
       "        [1.53280877e-04],\n",
       "        ...,\n",
       "        [2.94254855e-02],\n",
       "        [3.10321579e-02],\n",
       "        [3.18080035e-02]],\n",
       "\n",
       "       [[7.60295366e-04],\n",
       "        [1.53280877e-04],\n",
       "        [1.63277456e-04],\n",
       "        ...,\n",
       "        [3.10321579e-02],\n",
       "        [3.18080035e-02],\n",
       "        [3.79331296e-02]],\n",
       "\n",
       "       ...,\n",
       "\n",
       "       [[5.60603149e-01],\n",
       "        [5.57791334e-01],\n",
       "        [5.62767964e-01],\n",
       "        ...,\n",
       "        [6.37318007e-01],\n",
       "        [6.27975648e-01],\n",
       "        [6.25814166e-01]],\n",
       "\n",
       "       [[5.57791334e-01],\n",
       "        [5.62767964e-01],\n",
       "        [5.60815854e-01],\n",
       "        ...,\n",
       "        [6.27975648e-01],\n",
       "        [6.25814166e-01],\n",
       "        [6.26244574e-01]],\n",
       "\n",
       "       [[5.62767964e-01],\n",
       "        [5.60815854e-01],\n",
       "        [5.60932481e-01],\n",
       "        ...,\n",
       "        [6.25814166e-01],\n",
       "        [6.26244574e-01],\n",
       "        [6.46757554e-01]]])"
      ]
     },
     "execution_count": 51,
     "metadata": {},
     "output_type": "execute_result"
    }
   ],
   "source": [
    "X_train"
   ]
  },
  {
   "cell_type": "code",
   "execution_count": 24,
   "id": "8df90e87",
   "metadata": {},
   "outputs": [],
   "source": [
    "### Create the Stacked LSTM model\n",
    "from tensorflow.keras.models import Sequential\n",
    "from tensorflow.keras.layers import Dense\n",
    "from tensorflow.keras.layers import LSTM\n",
    "from tensorflow.keras.optimizers import Adam\n",
    "from keras.layers import Dropout"
   ]
  },
  {
   "cell_type": "code",
   "execution_count": 25,
   "id": "15f86150",
   "metadata": {},
   "outputs": [],
   "source": [
    "model=Sequential()\n",
    "model.add(LSTM(80,return_sequences=True,input_shape=(150,1)))\n",
    "model.add(Dropout(0.2))\n",
    "model.add(LSTM(50,return_sequences=True))\n",
    "model.add(Dropout(0.2))\n",
    "model.add(LSTM(30))\n",
    "model.add(Dropout(0.2))\n",
    "model.add(Dense(1))\n",
    "\n",
    "adam = Adam(learning_rate= 0.01)\n",
    "model.compile(loss='mean_squared_error',optimizer= adam)"
   ]
  },
  {
   "cell_type": "code",
   "execution_count": 26,
   "id": "9391c2b8",
   "metadata": {},
   "outputs": [
    {
     "data": {
      "text/plain": [
       "150"
      ]
     },
     "execution_count": 26,
     "metadata": {},
     "output_type": "execute_result"
    }
   ],
   "source": [
    "X_train.shape[1]"
   ]
  },
  {
   "cell_type": "code",
   "execution_count": 27,
   "id": "a379cc3e",
   "metadata": {},
   "outputs": [
    {
     "name": "stdout",
     "output_type": "stream",
     "text": [
      "Model: \"sequential\"\n",
      "_________________________________________________________________\n",
      " Layer (type)                Output Shape              Param #   \n",
      "=================================================================\n",
      " lstm (LSTM)                 (None, 150, 80)           26240     \n",
      "                                                                 \n",
      " dropout (Dropout)           (None, 150, 80)           0         \n",
      "                                                                 \n",
      " lstm_1 (LSTM)               (None, 150, 50)           26200     \n",
      "                                                                 \n",
      " dropout_1 (Dropout)         (None, 150, 50)           0         \n",
      "                                                                 \n",
      " lstm_2 (LSTM)               (None, 30)                9720      \n",
      "                                                                 \n",
      " dropout_2 (Dropout)         (None, 30)                0         \n",
      "                                                                 \n",
      " dense (Dense)               (None, 1)                 31        \n",
      "                                                                 \n",
      "=================================================================\n",
      "Total params: 62,191\n",
      "Trainable params: 62,191\n",
      "Non-trainable params: 0\n",
      "_________________________________________________________________\n"
     ]
    }
   ],
   "source": [
    "model.summary()"
   ]
  },
  {
   "cell_type": "code",
   "execution_count": 28,
   "id": "faf3e134",
   "metadata": {},
   "outputs": [
    {
     "name": "stdout",
     "output_type": "stream",
     "text": [
      "Epoch 1/80\n",
      "26/26 [==============================] - 21s 474ms/step - loss: 0.0319 - val_loss: 0.0015\n",
      "Epoch 2/80\n",
      "26/26 [==============================] - 10s 382ms/step - loss: 0.0035 - val_loss: 0.0019\n",
      "Epoch 3/80\n",
      "26/26 [==============================] - 10s 394ms/step - loss: 0.0025 - val_loss: 0.0016\n",
      "Epoch 4/80\n",
      "26/26 [==============================] - 11s 406ms/step - loss: 0.0019 - val_loss: 0.0035\n",
      "Epoch 5/80\n",
      "26/26 [==============================] - 11s 415ms/step - loss: 0.0024 - val_loss: 0.0050\n",
      "Epoch 6/80\n",
      "26/26 [==============================] - 11s 407ms/step - loss: 0.0018 - val_loss: 0.0011\n",
      "Epoch 7/80\n",
      "26/26 [==============================] - 11s 413ms/step - loss: 0.0018 - val_loss: 0.0065\n",
      "Epoch 8/80\n",
      "26/26 [==============================] - 10s 403ms/step - loss: 0.0017 - val_loss: 0.0043\n",
      "Epoch 9/80\n",
      "26/26 [==============================] - 10s 394ms/step - loss: 0.0021 - val_loss: 0.0046\n",
      "Epoch 10/80\n",
      "26/26 [==============================] - 10s 392ms/step - loss: 0.0018 - val_loss: 0.0022\n",
      "Epoch 11/80\n",
      "26/26 [==============================] - 10s 385ms/step - loss: 0.0014 - val_loss: 0.0019\n",
      "Epoch 12/80\n",
      "26/26 [==============================] - 10s 396ms/step - loss: 0.0015 - val_loss: 0.0013\n",
      "Epoch 13/80\n",
      "26/26 [==============================] - 10s 392ms/step - loss: 0.0014 - val_loss: 0.0021\n",
      "Epoch 14/80\n",
      "26/26 [==============================] - 10s 390ms/step - loss: 0.0014 - val_loss: 9.9292e-04\n",
      "Epoch 15/80\n",
      "26/26 [==============================] - 10s 398ms/step - loss: 0.0012 - val_loss: 0.0029\n",
      "Epoch 16/80\n",
      "26/26 [==============================] - 10s 382ms/step - loss: 0.0015 - val_loss: 9.1631e-04\n",
      "Epoch 17/80\n",
      "26/26 [==============================] - 10s 389ms/step - loss: 0.0012 - val_loss: 9.0646e-04\n",
      "Epoch 18/80\n",
      "26/26 [==============================] - 10s 384ms/step - loss: 0.0011 - val_loss: 0.0021\n",
      "Epoch 19/80\n",
      "26/26 [==============================] - 10s 370ms/step - loss: 0.0011 - val_loss: 6.5336e-04\n",
      "Epoch 20/80\n",
      "26/26 [==============================] - 10s 385ms/step - loss: 0.0010 - val_loss: 6.8393e-04\n",
      "Epoch 21/80\n",
      "26/26 [==============================] - 10s 377ms/step - loss: 0.0011 - val_loss: 5.6333e-04\n",
      "Epoch 22/80\n",
      "26/26 [==============================] - 10s 374ms/step - loss: 0.0012 - val_loss: 7.5124e-04\n",
      "Epoch 23/80\n",
      "26/26 [==============================] - 10s 381ms/step - loss: 0.0013 - val_loss: 8.8373e-04\n",
      "Epoch 24/80\n",
      "26/26 [==============================] - 9s 364ms/step - loss: 0.0011 - val_loss: 0.0013\n",
      "Epoch 25/80\n",
      "26/26 [==============================] - 10s 380ms/step - loss: 0.0011 - val_loss: 5.5167e-04\n",
      "Epoch 26/80\n",
      "26/26 [==============================] - 10s 379ms/step - loss: 9.4105e-04 - val_loss: 7.9681e-04\n",
      "Epoch 27/80\n",
      "26/26 [==============================] - 10s 373ms/step - loss: 9.3668e-04 - val_loss: 7.7760e-04\n",
      "Epoch 28/80\n",
      "26/26 [==============================] - 10s 375ms/step - loss: 9.0646e-04 - val_loss: 5.1288e-04\n",
      "Epoch 29/80\n",
      "26/26 [==============================] - 9s 361ms/step - loss: 9.5155e-04 - val_loss: 5.7483e-04\n",
      "Epoch 30/80\n",
      "26/26 [==============================] - 10s 376ms/step - loss: 8.4364e-04 - val_loss: 5.7679e-04\n",
      "Epoch 31/80\n",
      "26/26 [==============================] - 9s 365ms/step - loss: 9.0636e-04 - val_loss: 5.2357e-04\n",
      "Epoch 32/80\n",
      "26/26 [==============================] - 9s 364ms/step - loss: 0.0010 - val_loss: 0.0017\n",
      "Epoch 33/80\n",
      "26/26 [==============================] - 10s 375ms/step - loss: 0.0010 - val_loss: 6.5125e-04\n",
      "Epoch 34/80\n",
      "26/26 [==============================] - 9s 358ms/step - loss: 9.5466e-04 - val_loss: 8.0713e-04\n",
      "Epoch 35/80\n",
      "26/26 [==============================] - 10s 372ms/step - loss: 9.2851e-04 - val_loss: 0.0011\n",
      "Epoch 36/80\n",
      "26/26 [==============================] - 10s 368ms/step - loss: 9.8797e-04 - val_loss: 0.0014\n",
      "Epoch 37/80\n",
      "26/26 [==============================] - 9s 366ms/step - loss: 8.7353e-04 - val_loss: 0.0014\n",
      "Epoch 38/80\n",
      "26/26 [==============================] - 10s 376ms/step - loss: 8.8142e-04 - val_loss: 0.0011\n",
      "Epoch 39/80\n",
      "26/26 [==============================] - 9s 359ms/step - loss: 9.6436e-04 - val_loss: 7.4858e-04\n",
      "Epoch 40/80\n",
      "26/26 [==============================] - 10s 379ms/step - loss: 9.1016e-04 - val_loss: 0.0027\n",
      "Epoch 41/80\n",
      "26/26 [==============================] - 10s 371ms/step - loss: 9.4404e-04 - val_loss: 4.0964e-04\n",
      "Epoch 42/80\n",
      "26/26 [==============================] - 9s 366ms/step - loss: 8.8754e-04 - val_loss: 0.0011\n",
      "Epoch 43/80\n",
      "26/26 [==============================] - 10s 376ms/step - loss: 9.1979e-04 - val_loss: 4.2170e-04\n",
      "Epoch 44/80\n",
      "26/26 [==============================] - 9s 361ms/step - loss: 8.7381e-04 - val_loss: 0.0041\n",
      "Epoch 45/80\n",
      "26/26 [==============================] - 10s 377ms/step - loss: 9.6935e-04 - val_loss: 0.0011\n",
      "Epoch 46/80\n",
      "26/26 [==============================] - 9s 366ms/step - loss: 9.9764e-04 - val_loss: 8.3461e-04\n",
      "Epoch 47/80\n",
      "26/26 [==============================] - 10s 376ms/step - loss: 9.8082e-04 - val_loss: 4.2542e-04\n",
      "Epoch 48/80\n",
      "26/26 [==============================] - 10s 370ms/step - loss: 8.3029e-04 - val_loss: 7.3524e-04\n",
      "Epoch 49/80\n",
      "26/26 [==============================] - 9s 359ms/step - loss: 0.0011 - val_loss: 0.0017\n",
      "Epoch 50/80\n",
      "26/26 [==============================] - 10s 374ms/step - loss: 9.7816e-04 - val_loss: 0.0010\n",
      "Epoch 51/80\n",
      "26/26 [==============================] - 9s 365ms/step - loss: 9.2977e-04 - val_loss: 0.0011\n",
      "Epoch 52/80\n",
      "26/26 [==============================] - 9s 364ms/step - loss: 7.8911e-04 - val_loss: 5.6857e-04\n",
      "Epoch 53/80\n",
      "26/26 [==============================] - 10s 373ms/step - loss: 8.6871e-04 - val_loss: 3.8129e-04\n",
      "Epoch 54/80\n",
      "26/26 [==============================] - 9s 364ms/step - loss: 8.9730e-04 - val_loss: 0.0021\n",
      "Epoch 55/80\n",
      "26/26 [==============================] - 10s 377ms/step - loss: 8.1298e-04 - val_loss: 0.0010\n",
      "Epoch 56/80\n",
      "26/26 [==============================] - 9s 366ms/step - loss: 8.8475e-04 - val_loss: 4.2445e-04\n",
      "Epoch 57/80\n",
      "26/26 [==============================] - 9s 366ms/step - loss: 9.2815e-04 - val_loss: 0.0041\n",
      "Epoch 58/80\n",
      "26/26 [==============================] - 10s 371ms/step - loss: 8.4235e-04 - val_loss: 4.4735e-04\n",
      "Epoch 59/80\n",
      "26/26 [==============================] - 9s 359ms/step - loss: 8.2097e-04 - val_loss: 0.0016\n",
      "Epoch 60/80\n",
      "26/26 [==============================] - 10s 370ms/step - loss: 8.4284e-04 - val_loss: 3.6607e-04\n",
      "Epoch 61/80\n",
      "26/26 [==============================] - 9s 355ms/step - loss: 8.0358e-04 - val_loss: 4.5557e-04\n",
      "Epoch 62/80\n",
      "26/26 [==============================] - 9s 361ms/step - loss: 7.7545e-04 - val_loss: 4.6352e-04\n",
      "Epoch 63/80\n",
      "26/26 [==============================] - 9s 364ms/step - loss: 7.8235e-04 - val_loss: 7.1599e-04\n",
      "Epoch 64/80\n",
      "26/26 [==============================] - 9s 356ms/step - loss: 8.4258e-04 - val_loss: 6.6941e-04\n",
      "Epoch 65/80\n",
      "26/26 [==============================] - 10s 369ms/step - loss: 9.2682e-04 - val_loss: 9.4718e-04\n",
      "Epoch 66/80\n",
      "26/26 [==============================] - 9s 354ms/step - loss: 8.2386e-04 - val_loss: 3.8321e-04\n",
      "Epoch 67/80\n",
      "26/26 [==============================] - 10s 369ms/step - loss: 8.4688e-04 - val_loss: 4.4318e-04\n",
      "Epoch 68/80\n",
      "26/26 [==============================] - 9s 361ms/step - loss: 7.6591e-04 - val_loss: 4.0436e-04\n",
      "Epoch 69/80\n",
      "26/26 [==============================] - 9s 360ms/step - loss: 8.2708e-04 - val_loss: 4.0018e-04\n",
      "Epoch 70/80\n",
      "26/26 [==============================] - 10s 370ms/step - loss: 8.1803e-04 - val_loss: 9.4858e-04\n",
      "Epoch 71/80\n",
      "26/26 [==============================] - 9s 355ms/step - loss: 8.0521e-04 - val_loss: 0.0012\n",
      "Epoch 72/80\n",
      "26/26 [==============================] - 10s 371ms/step - loss: 7.3575e-04 - val_loss: 4.2010e-04\n",
      "Epoch 73/80\n",
      "26/26 [==============================] - 9s 363ms/step - loss: 0.0010 - val_loss: 3.6165e-04\n",
      "Epoch 74/80\n",
      "26/26 [==============================] - 9s 364ms/step - loss: 8.8457e-04 - val_loss: 7.7713e-04\n",
      "Epoch 75/80\n",
      "26/26 [==============================] - 10s 368ms/step - loss: 8.7527e-04 - val_loss: 3.9964e-04\n",
      "Epoch 76/80\n",
      "26/26 [==============================] - 9s 357ms/step - loss: 8.9712e-04 - val_loss: 0.0014\n",
      "Epoch 77/80\n",
      "26/26 [==============================] - 10s 372ms/step - loss: 7.1053e-04 - val_loss: 5.4518e-04\n",
      "Epoch 78/80\n",
      "26/26 [==============================] - 9s 357ms/step - loss: 7.8439e-04 - val_loss: 3.8017e-04\n",
      "Epoch 79/80\n",
      "26/26 [==============================] - 10s 405ms/step - loss: 9.0805e-04 - val_loss: 3.7187e-04\n",
      "Epoch 80/80\n",
      "26/26 [==============================] - 10s 384ms/step - loss: 7.5059e-04 - val_loss: 3.6637e-04\n"
     ]
    },
    {
     "data": {
      "text/plain": [
       "<keras.callbacks.History at 0x1661dce3790>"
      ]
     },
     "execution_count": 28,
     "metadata": {},
     "output_type": "execute_result"
    }
   ],
   "source": [
    "model.fit(X_train,y_train,validation_data=(X_test,ytest),epochs=80,batch_size=70,verbose=1)"
   ]
  },
  {
   "cell_type": "code",
   "execution_count": 29,
   "id": "19ea7824",
   "metadata": {},
   "outputs": [],
   "source": [
    "import tensorflow as tf"
   ]
  },
  {
   "cell_type": "code",
   "execution_count": 30,
   "id": "0e401fd8",
   "metadata": {},
   "outputs": [
    {
     "data": {
      "text/plain": [
       "'2.11.0'"
      ]
     },
     "execution_count": 30,
     "metadata": {},
     "output_type": "execute_result"
    }
   ],
   "source": [
    "tf.__version__"
   ]
  },
  {
   "cell_type": "code",
   "execution_count": 31,
   "id": "bec44ebc",
   "metadata": {},
   "outputs": [
    {
     "name": "stdout",
     "output_type": "stream",
     "text": [
      "56/56 [==============================] - 5s 67ms/step\n",
      "22/22 [==============================] - 2s 68ms/step\n"
     ]
    }
   ],
   "source": [
    "### Lets Do the prediction and check performance metrics\n",
    "train_predict=model.predict(X_train)\n",
    "test_predict=model.predict(X_test)"
   ]
  },
  {
   "cell_type": "code",
   "execution_count": 32,
   "id": "a0d51a75",
   "metadata": {},
   "outputs": [],
   "source": [
    "##Transformback to original form\n",
    "train_predict=scaler.inverse_transform(train_predict)\n",
    "test_predict=scaler.inverse_transform(test_predict)"
   ]
  },
  {
   "cell_type": "code",
   "execution_count": 33,
   "id": "a29ccda3",
   "metadata": {},
   "outputs": [],
   "source": [
    "from sklearn.metrics import accuracy_score, confusion_matrix"
   ]
  },
  {
   "cell_type": "code",
   "execution_count": 54,
   "id": "3713fd12",
   "metadata": {},
   "outputs": [],
   "source": [
    "y=y_train.reshape(-1, 1)"
   ]
  },
  {
   "cell_type": "code",
   "execution_count": 55,
   "id": "ff0a0bbb",
   "metadata": {},
   "outputs": [],
   "source": [
    "y_p=scaler.inverse_transform(y)"
   ]
  },
  {
   "cell_type": "code",
   "execution_count": 70,
   "id": "ba6b2346",
   "metadata": {},
   "outputs": [
    {
     "data": {
      "text/plain": [
       "array([[ 9806.75],\n",
       "       [10358.2 ],\n",
       "       [10659.85],\n",
       "       ...,\n",
       "       [63324.35],\n",
       "       [65171.15],\n",
       "       [64893.3 ]])"
      ]
     },
     "execution_count": 70,
     "metadata": {},
     "output_type": "execute_result"
    }
   ],
   "source": [
    "y_p"
   ]
  },
  {
   "cell_type": "code",
   "execution_count": 58,
   "id": "a801ffe9",
   "metadata": {},
   "outputs": [
    {
     "data": {
      "text/plain": [
       "array([[ 9730.357],\n",
       "       [ 9737.253],\n",
       "       [ 9858.372],\n",
       "       ...,\n",
       "       [64491.586],\n",
       "       [64338.63 ],\n",
       "       [64961.95 ]], dtype=float32)"
      ]
     },
     "execution_count": 58,
     "metadata": {},
     "output_type": "execute_result"
    }
   ],
   "source": [
    "train_predict"
   ]
  },
  {
   "cell_type": "code",
   "execution_count": 56,
   "id": "963501bb",
   "metadata": {},
   "outputs": [
    {
     "data": {
      "text/plain": [
       "1150.399356663198"
      ]
     },
     "execution_count": 56,
     "metadata": {},
     "output_type": "execute_result"
    }
   ],
   "source": [
    "### Calculate RMSE performance metrics\n",
    "import math\n",
    "from sklearn.metrics import mean_squared_error\n",
    "math.sqrt(mean_squared_error(y_p,train_predict))"
   ]
  },
  {
   "cell_type": "code",
   "execution_count": 72,
   "id": "d34bfac4",
   "metadata": {},
   "outputs": [
    {
     "data": {
      "text/plain": [
       "[<matplotlib.lines.Line2D at 0x1662c3ecd00>]"
      ]
     },
     "execution_count": 72,
     "metadata": {},
     "output_type": "execute_result"
    },
    {
     "data": {
      "image/png": "[encoded data removed]",
      "text/plain": [
       "<Figure size 640x480 with 1 Axes>"
      ]
     },
     "metadata": {},
     "output_type": "display_data"
    }
   ],
   "source": [
    "plt.plot(y_p)\n",
    "plt.plot(train_predict,color=\"red\")"
   ]
  },
  {
   "cell_type": "code",
   "execution_count": 52,
   "id": "a8eb0e1f",
   "metadata": {},
   "outputs": [
    {
     "data": {
      "text/plain": [
       "array([0.031808  , 0.03793313, 0.04128365, ..., 0.62624457, 0.64675755,\n",
       "       0.64367139])"
      ]
     },
     "execution_count": 52,
     "metadata": {},
     "output_type": "execute_result"
    }
   ],
   "source": [
    "y_train"
   ]
  },
  {
   "cell_type": "code",
   "execution_count": 60,
   "id": "2b96ba39",
   "metadata": {},
   "outputs": [],
   "source": [
    "Y=ytest.reshape(-1, 1)"
   ]
  },
  {
   "cell_type": "code",
   "execution_count": 61,
   "id": "acab6f31",
   "metadata": {},
   "outputs": [],
   "source": [
    "y_test=scaler.inverse_transform(Y)"
   ]
  },
  {
   "cell_type": "code",
   "execution_count": 62,
   "id": "52d17e6a",
   "metadata": {},
   "outputs": [
    {
     "data": {
      "text/plain": [
       "1723.256370568998"
      ]
     },
     "execution_count": 62,
     "metadata": {},
     "output_type": "execute_result"
    }
   ],
   "source": [
    "### Test Data RMSE\n",
    "math.sqrt(mean_squared_error(y_test,test_predict))"
   ]
  },
  {
   "cell_type": "code",
   "execution_count": 71,
   "id": "13403b6c",
   "metadata": {},
   "outputs": [
    {
     "data": {
      "text/plain": [
       "[<matplotlib.lines.Line2D at 0x1662c38c8b0>]"
      ]
     },
     "execution_count": 71,
     "metadata": {},
     "output_type": "execute_result"
    },
    {
     "data": {
      "image/png": "[encoded data removed]",
      "text/plain": [
       "<Figure size 640x480 with 1 Axes>"
      ]
     },
     "metadata": {},
     "output_type": "display_data"
    }
   ],
   "source": [
    "plt.plot(y_test)\n",
    "plt.plot(test_predict,color=\"red\")"
   ]
  },
  {
   "cell_type": "code",
   "execution_count": 36,
   "id": "7ace2663",
   "metadata": {},
   "outputs": [
    {
     "data": {
      "image/png": "[encoded data removed]",
      "text/plain": [
       "<Figure size 640x480 with 1 Axes>"
      ]
     },
     "metadata": {},
     "output_type": "display_data"
    }
   ],
   "source": [
    "### Plotting \n",
    "# shift train predictions for plotting\n",
    "look_back=150\n",
    "trainPredictPlot = numpy.empty_like(df1)\n",
    "trainPredictPlot[:, :] = np.nan\n",
    "trainPredictPlot[look_back:len(train_predict)+look_back, :] = train_predict\n",
    "# shift test predictions for plotting\n",
    "testPredictPlot = numpy.empty_like(df1)\n",
    "testPredictPlot[:, :] = numpy.nan\n",
    "testPredictPlot[len(train_predict)+(look_back*2)+1:len(df1)-1, :] = test_predict\n",
    "# plot baseline and predictions\n",
    "plt.plot(scaler.inverse_transform(df1))\n",
    "plt.plot(trainPredictPlot)\n",
    "plt.plot(testPredictPlot)\n",
    "plt.show()"
   ]
  },
  {
   "cell_type": "code",
   "execution_count": 37,
   "id": "98c7765f",
   "metadata": {},
   "outputs": [
    {
     "data": {
      "text/plain": [
       "831"
      ]
     },
     "execution_count": 37,
     "metadata": {},
     "output_type": "execute_result"
    }
   ],
   "source": [
    "len(test_data)"
   ]
  },
  {
   "cell_type": "code",
   "execution_count": 38,
   "id": "c39ab9d8",
   "metadata": {},
   "outputs": [
    {
     "data": {
      "text/plain": [
       "(1, 150)"
      ]
     },
     "execution_count": 38,
     "metadata": {},
     "output_type": "execute_result"
    }
   ],
   "source": [
    "x_input=test_data[681:].reshape(1,-1)\n",
    "x_input.shape"
   ]
  },
  {
   "cell_type": "code",
   "execution_count": 39,
   "id": "33490f0e",
   "metadata": {},
   "outputs": [],
   "source": [
    "temp_input=list(x_input)\n",
    "temp_input=temp_input[0].tolist()"
   ]
  },
  {
   "cell_type": "code",
   "execution_count": 40,
   "id": "3ab7faae",
   "metadata": {},
   "outputs": [
    {
     "data": {
      "text/plain": [
       "[0.8131345050804835,\n",
       " 0.8210734548621138,\n",
       " 0.8453046068678718,\n",
       " 0.8538755625852484,\n",
       " 0.8886658787881481,\n",
       " 0.9022478973862277,\n",
       " 0.9085324133518751,\n",
       " 0.9082308498869276,\n",
       " 0.9102707073579263,\n",
       " 0.897186851610782,\n",
       " 0.8499707877748504,\n",
       " 0.8392422371010808,\n",
       " 0.8462415084615487,\n",
       " 0.8889002430279415,\n",
       " 0.8875912465511803,\n",
       " 0.8957878859234839,\n",
       " 0.8872835740657641,\n",
       " 0.8650950563584906,\n",
       " 0.8769487775294675,\n",
       " 0.8699406203210456,\n",
       " 0.8719454897657245,\n",
       " 0.8700267019731025,\n",
       " 0.8605455022059116,\n",
       " 0.8710563496048018,\n",
       " 0.8685883053355073,\n",
       " 0.8598596258169425,\n",
       " 0.8587172389893236,\n",
       " 0.8698650906134344,\n",
       " 0.8684833412565477,\n",
       " 0.8714056745025035,\n",
       " 0.858206302731954,\n",
       " 0.875980775467951,\n",
       " 0.8731256414471491,\n",
       " 0.8789064409068895,\n",
       " 0.9544000497607483,\n",
       " 0.8793635067110367,\n",
       " 0.8820287057318162,\n",
       " 0.8743446687133736,\n",
       " 0.8590238007437453,\n",
       " 0.8615768159341025,\n",
       " 0.8403357517649515,\n",
       " 0.8020949497283152,\n",
       " 0.8095896071122327,\n",
       " 0.8160946031802448,\n",
       " 0.8072676239686862,\n",
       " 0.8298437867929641,\n",
       " 0.8183999253588772,\n",
       " 0.8428493360050116,\n",
       " 0.8385696894840431,\n",
       " 0.8422295481102021,\n",
       " 0.837036325346437,\n",
       " 0.8234737445407572,\n",
       " 0.8390311982121673,\n",
       " 0.834928713284787,\n",
       " 0.8264627216463698,\n",
       " 0.8366570107118896,\n",
       " 0.8457672263269902,\n",
       " 0.8464481044264851,\n",
       " 0.8578036627465268,\n",
       " 0.8806069700591352,\n",
       " 0.8813483829978185,\n",
       " 0.8930254979407047,\n",
       " 0.8932476441395611,\n",
       " 0.9155227988643886,\n",
       " 0.9310585932814104,\n",
       " 0.9317605752697964,\n",
       " 0.92943470456777,\n",
       " 0.9298495625941343,\n",
       " 0.9364028754603979,\n",
       " 0.9769662160060779,\n",
       " 0.8894111792853111,\n",
       " 0.8944227975315113,\n",
       " 0.8798472300590463,\n",
       " 0.8801076964772055,\n",
       " 0.8955957294614731,\n",
       " 0.8968369713475832,\n",
       " 0.8991078608653926,\n",
       " 0.9013543143013278,\n",
       " 0.9125116071388901,\n",
       " 0.9109454764369526,\n",
       " 0.9111337453404833,\n",
       " 0.91592654958081,\n",
       " 0.9214796491867228,\n",
       " 0.9395756785455645,\n",
       " 0.9510312026550913,\n",
       " 0.9620540970423455,\n",
       " 0.9705839557129337,\n",
       " 0.9731241974968565,\n",
       " 0.9744515210350235,\n",
       " 0.9727098948359894,\n",
       " 0.9545883186642792,\n",
       " 0.9346729119368038,\n",
       " 0.9393190996858851,\n",
       " 0.938018989057078,\n",
       " 0.9333128218343054,\n",
       " 0.9354843009281266,\n",
       " 0.9322343020388577,\n",
       " 0.912684325808501,\n",
       " 0.9216168244645165,\n",
       " 0.9114875131621623,\n",
       " 0.9024678221230955,\n",
       " 0.902465600661107,\n",
       " 0.8788986657899296,\n",
       " 0.8958439778386952,\n",
       " 0.9013259906609736,\n",
       " 0.8994721806315171,\n",
       " 0.8955257534088333,\n",
       " 0.9062720757785112,\n",
       " 0.9008933609387009,\n",
       " 0.9100563362760299,\n",
       " 0.9004607312164281,\n",
       " 0.9367099925803168,\n",
       " 0.9574329007406353,\n",
       " 0.9608328483141324,\n",
       " 0.9687895697916711,\n",
       " 0.9352238345099677,\n",
       " 0.9171883399903143,\n",
       " 0.9193509332361813,\n",
       " 0.913968330837891,\n",
       " 0.9172827521248283,\n",
       " 0.9247257605175119,\n",
       " 0.9279152245675923,\n",
       " 0.9176187482505986,\n",
       " 0.9256532208977373,\n",
       " 0.9271432665265664,\n",
       " 0.9177825810722552,\n",
       " 0.9032247852956988,\n",
       " 0.9143631957063582,\n",
       " 0.9321959818195549,\n",
       " 0.9443257196426111,\n",
       " 0.9538324662226705,\n",
       " 0.9542323293806119,\n",
       " 0.9522829964856472,\n",
       " 0.9418643397592823,\n",
       " 0.947815636426645,\n",
       " 0.9093554650186381,\n",
       " 0.9122194848873939,\n",
       " 0.9092538331326612,\n",
       " 0.9008800321667695,\n",
       " 0.9098264149602135,\n",
       " 0.9138289340981086,\n",
       " 0.9085407438343321,\n",
       " 0.9134435104430928,\n",
       " 0.922063893689715,\n",
       " 0.8965292988621671,\n",
       " 0.8862278242556991,\n",
       " 0.887003669855205,\n",
       " 0.8685921928939874,\n",
       " 0.8698528725724974,\n",
       " 0.8788720082460669]"
      ]
     },
     "execution_count": 40,
     "metadata": {},
     "output_type": "execute_result"
    }
   ],
   "source": [
    "temp_input"
   ]
  },
  {
   "cell_type": "code",
   "execution_count": 41,
   "id": "a7678690",
   "metadata": {},
   "outputs": [
    {
     "name": "stdout",
     "output_type": "stream",
     "text": [
      "[0.86517227]\n",
      "151\n",
      "1 day input [0.82107345 0.84530461 0.85387556 0.88866588 0.9022479  0.90853241\n",
      " 0.90823085 0.91027071 0.89718685 0.84997079 0.83924224 0.84624151\n",
      " 0.88890024 0.88759125 0.89578789 0.88728357 0.86509506 0.87694878\n",
      " 0.86994062 0.87194549 0.8700267  0.8605455  0.87105635 0.86858831\n",
      " 0.85985963 0.85871724 0.86986509 0.86848334 0.87140567 0.8582063\n",
      " 0.87598078 0.87312564 0.87890644 0.95440005 0.87936351 0.88202871\n",
      " 0.87434467 0.8590238  0.86157682 0.84033575 0.80209495 0.80958961\n",
      " 0.8160946  0.80726762 0.82984379 0.81839993 0.84284934 0.83856969\n",
      " 0.84222955 0.83703633 0.82347374 0.8390312  0.83492871 0.82646272\n",
      " 0.83665701 0.84576723 0.8464481  0.85780366 0.88060697 0.88134838\n",
      " 0.8930255  0.89324764 0.9155228  0.93105859 0.93176058 0.9294347\n",
      " 0.92984956 0.93640288 0.97696622 0.88941118 0.8944228  0.87984723\n",
      " 0.8801077  0.89559573 0.89683697 0.89910786 0.90135431 0.91251161\n",
      " 0.91094548 0.91113375 0.91592655 0.92147965 0.93957568 0.9510312\n",
      " 0.9620541  0.97058396 0.9731242  0.97445152 0.97270989 0.95458832\n",
      " 0.93467291 0.9393191  0.93801899 0.93331282 0.9354843  0.9322343\n",
      " 0.91268433 0.92161682 0.91148751 0.90246782 0.9024656  0.87889867\n",
      " 0.89584398 0.90132599 0.89947218 0.89552575 0.90627208 0.90089336\n",
      " 0.91005634 0.90046073 0.93670999 0.9574329  0.96083285 0.96878957\n",
      " 0.93522383 0.91718834 0.91935093 0.91396833 0.91728275 0.92472576\n",
      " 0.92791522 0.91761875 0.92565322 0.92714327 0.91778258 0.90322479\n",
      " 0.9143632  0.93219598 0.94432572 0.95383247 0.95423233 0.952283\n",
      " 0.94186434 0.94781564 0.90935547 0.91221948 0.90925383 0.90088003\n",
      " 0.90982641 0.91382893 0.90854074 0.91344351 0.92206389 0.8965293\n",
      " 0.88622782 0.88700367 0.86859219 0.86985287 0.87887201 0.86517227]\n",
      "1 day output [[0.86321336]]\n",
      "2 day input [0.84530461 0.85387556 0.88866588 0.9022479  0.90853241 0.90823085\n",
      " 0.91027071 0.89718685 0.84997079 0.83924224 0.84624151 0.88890024\n",
      " 0.88759125 0.89578789 0.88728357 0.86509506 0.87694878 0.86994062\n",
      " 0.87194549 0.8700267  0.8605455  0.87105635 0.86858831 0.85985963\n",
      " 0.85871724 0.86986509 0.86848334 0.87140567 0.8582063  0.87598078\n",
      " 0.87312564 0.87890644 0.95440005 0.87936351 0.88202871 0.87434467\n",
      " 0.8590238  0.86157682 0.84033575 0.80209495 0.80958961 0.8160946\n",
      " 0.80726762 0.82984379 0.81839993 0.84284934 0.83856969 0.84222955\n",
      " 0.83703633 0.82347374 0.8390312  0.83492871 0.82646272 0.83665701\n",
      " 0.84576723 0.8464481  0.85780366 0.88060697 0.88134838 0.8930255\n",
      " 0.89324764 0.9155228  0.93105859 0.93176058 0.9294347  0.92984956\n",
      " 0.93640288 0.97696622 0.88941118 0.8944228  0.87984723 0.8801077\n",
      " 0.89559573 0.89683697 0.89910786 0.90135431 0.91251161 0.91094548\n",
      " 0.91113375 0.91592655 0.92147965 0.93957568 0.9510312  0.9620541\n",
      " 0.97058396 0.9731242  0.97445152 0.97270989 0.95458832 0.93467291\n",
      " 0.9393191  0.93801899 0.93331282 0.9354843  0.9322343  0.91268433\n",
      " 0.92161682 0.91148751 0.90246782 0.9024656  0.87889867 0.89584398\n",
      " 0.90132599 0.89947218 0.89552575 0.90627208 0.90089336 0.91005634\n",
      " 0.90046073 0.93670999 0.9574329  0.96083285 0.96878957 0.93522383\n",
      " 0.91718834 0.91935093 0.91396833 0.91728275 0.92472576 0.92791522\n",
      " 0.91761875 0.92565322 0.92714327 0.91778258 0.90322479 0.9143632\n",
      " 0.93219598 0.94432572 0.95383247 0.95423233 0.952283   0.94186434\n",
      " 0.94781564 0.90935547 0.91221948 0.90925383 0.90088003 0.90982641\n",
      " 0.91382893 0.90854074 0.91344351 0.92206389 0.8965293  0.88622782\n",
      " 0.88700367 0.86859219 0.86985287 0.87887201 0.86517227 0.86321336]\n",
      "2 day output [[0.85847425]]\n",
      "3 day input [0.85387556 0.88866588 0.9022479  0.90853241 0.90823085 0.91027071\n",
      " 0.89718685 0.84997079 0.83924224 0.84624151 0.88890024 0.88759125\n",
      " 0.89578789 0.88728357 0.86509506 0.87694878 0.86994062 0.87194549\n",
      " 0.8700267  0.8605455  0.87105635 0.86858831 0.85985963 0.85871724\n",
      " 0.86986509 0.86848334 0.87140567 0.8582063  0.87598078 0.87312564\n",
      " 0.87890644 0.95440005 0.87936351 0.88202871 0.87434467 0.8590238\n",
      " 0.86157682 0.84033575 0.80209495 0.80958961 0.8160946  0.80726762\n",
      " 0.82984379 0.81839993 0.84284934 0.83856969 0.84222955 0.83703633\n",
      " 0.82347374 0.8390312  0.83492871 0.82646272 0.83665701 0.84576723\n",
      " 0.8464481  0.85780366 0.88060697 0.88134838 0.8930255  0.89324764\n",
      " 0.9155228  0.93105859 0.93176058 0.9294347  0.92984956 0.93640288\n",
      " 0.97696622 0.88941118 0.8944228  0.87984723 0.8801077  0.89559573\n",
      " 0.89683697 0.89910786 0.90135431 0.91251161 0.91094548 0.91113375\n",
      " 0.91592655 0.92147965 0.93957568 0.9510312  0.9620541  0.97058396\n",
      " 0.9731242  0.97445152 0.97270989 0.95458832 0.93467291 0.9393191\n",
      " 0.93801899 0.93331282 0.9354843  0.9322343  0.91268433 0.92161682\n",
      " 0.91148751 0.90246782 0.9024656  0.87889867 0.89584398 0.90132599\n",
      " 0.89947218 0.89552575 0.90627208 0.90089336 0.91005634 0.90046073\n",
      " 0.93670999 0.9574329  0.96083285 0.96878957 0.93522383 0.91718834\n",
      " 0.91935093 0.91396833 0.91728275 0.92472576 0.92791522 0.91761875\n",
      " 0.92565322 0.92714327 0.91778258 0.90322479 0.9143632  0.93219598\n",
      " 0.94432572 0.95383247 0.95423233 0.952283   0.94186434 0.94781564\n",
      " 0.90935547 0.91221948 0.90925383 0.90088003 0.90982641 0.91382893\n",
      " 0.90854074 0.91344351 0.92206389 0.8965293  0.88622782 0.88700367\n",
      " 0.86859219 0.86985287 0.87887201 0.86517227 0.86321336 0.85847425]\n",
      "3 day output [[0.8532398]]\n",
      "4 day input [0.88866588 0.9022479  0.90853241 0.90823085 0.91027071 0.89718685\n",
      " 0.84997079 0.83924224 0.84624151 0.88890024 0.88759125 0.89578789\n",
      " 0.88728357 0.86509506 0.87694878 0.86994062 0.87194549 0.8700267\n",
      " 0.8605455  0.87105635 0.86858831 0.85985963 0.85871724 0.86986509\n",
      " 0.86848334 0.87140567 0.8582063  0.87598078 0.87312564 0.87890644\n",
      " 0.95440005 0.87936351 0.88202871 0.87434467 0.8590238  0.86157682\n",
      " 0.84033575 0.80209495 0.80958961 0.8160946  0.80726762 0.82984379\n",
      " 0.81839993 0.84284934 0.83856969 0.84222955 0.83703633 0.82347374\n",
      " 0.8390312  0.83492871 0.82646272 0.83665701 0.84576723 0.8464481\n",
      " 0.85780366 0.88060697 0.88134838 0.8930255  0.89324764 0.9155228\n",
      " 0.93105859 0.93176058 0.9294347  0.92984956 0.93640288 0.97696622\n",
      " 0.88941118 0.8944228  0.87984723 0.8801077  0.89559573 0.89683697\n",
      " 0.89910786 0.90135431 0.91251161 0.91094548 0.91113375 0.91592655\n",
      " 0.92147965 0.93957568 0.9510312  0.9620541  0.97058396 0.9731242\n",
      " 0.97445152 0.97270989 0.95458832 0.93467291 0.9393191  0.93801899\n",
      " 0.93331282 0.9354843  0.9322343  0.91268433 0.92161682 0.91148751\n",
      " 0.90246782 0.9024656  0.87889867 0.89584398 0.90132599 0.89947218\n",
      " 0.89552575 0.90627208 0.90089336 0.91005634 0.90046073 0.93670999\n",
      " 0.9574329  0.96083285 0.96878957 0.93522383 0.91718834 0.91935093\n",
      " 0.91396833 0.91728275 0.92472576 0.92791522 0.91761875 0.92565322\n",
      " 0.92714327 0.91778258 0.90322479 0.9143632  0.93219598 0.94432572\n",
      " 0.95383247 0.95423233 0.952283   0.94186434 0.94781564 0.90935547\n",
      " 0.91221948 0.90925383 0.90088003 0.90982641 0.91382893 0.90854074\n",
      " 0.91344351 0.92206389 0.8965293  0.88622782 0.88700367 0.86859219\n",
      " 0.86985287 0.87887201 0.86517227 0.86321336 0.85847425 0.85323977]\n",
      "4 day output [[0.8488121]]\n",
      "5 day input [0.9022479  0.90853241 0.90823085 0.91027071 0.89718685 0.84997079\n",
      " 0.83924224 0.84624151 0.88890024 0.88759125 0.89578789 0.88728357\n",
      " 0.86509506 0.87694878 0.86994062 0.87194549 0.8700267  0.8605455\n",
      " 0.87105635 0.86858831 0.85985963 0.85871724 0.86986509 0.86848334\n",
      " 0.87140567 0.8582063  0.87598078 0.87312564 0.87890644 0.95440005\n",
      " 0.87936351 0.88202871 0.87434467 0.8590238  0.86157682 0.84033575\n",
      " 0.80209495 0.80958961 0.8160946  0.80726762 0.82984379 0.81839993\n",
      " 0.84284934 0.83856969 0.84222955 0.83703633 0.82347374 0.8390312\n",
      " 0.83492871 0.82646272 0.83665701 0.84576723 0.8464481  0.85780366\n",
      " 0.88060697 0.88134838 0.8930255  0.89324764 0.9155228  0.93105859\n",
      " 0.93176058 0.9294347  0.92984956 0.93640288 0.97696622 0.88941118\n",
      " 0.8944228  0.87984723 0.8801077  0.89559573 0.89683697 0.89910786\n",
      " 0.90135431 0.91251161 0.91094548 0.91113375 0.91592655 0.92147965\n",
      " 0.93957568 0.9510312  0.9620541  0.97058396 0.9731242  0.97445152\n",
      " 0.97270989 0.95458832 0.93467291 0.9393191  0.93801899 0.93331282\n",
      " 0.9354843  0.9322343  0.91268433 0.92161682 0.91148751 0.90246782\n",
      " 0.9024656  0.87889867 0.89584398 0.90132599 0.89947218 0.89552575\n",
      " 0.90627208 0.90089336 0.91005634 0.90046073 0.93670999 0.9574329\n",
      " 0.96083285 0.96878957 0.93522383 0.91718834 0.91935093 0.91396833\n",
      " 0.91728275 0.92472576 0.92791522 0.91761875 0.92565322 0.92714327\n",
      " 0.91778258 0.90322479 0.9143632  0.93219598 0.94432572 0.95383247\n",
      " 0.95423233 0.952283   0.94186434 0.94781564 0.90935547 0.91221948\n",
      " 0.90925383 0.90088003 0.90982641 0.91382893 0.90854074 0.91344351\n",
      " 0.92206389 0.8965293  0.88622782 0.88700367 0.86859219 0.86985287\n",
      " 0.87887201 0.86517227 0.86321336 0.85847425 0.85323977 0.8488121 ]\n",
      "5 day output [[0.84530604]]\n",
      "6 day input [0.90853241 0.90823085 0.91027071 0.89718685 0.84997079 0.83924224\n",
      " 0.84624151 0.88890024 0.88759125 0.89578789 0.88728357 0.86509506\n",
      " 0.87694878 0.86994062 0.87194549 0.8700267  0.8605455  0.87105635\n",
      " 0.86858831 0.85985963 0.85871724 0.86986509 0.86848334 0.87140567\n",
      " 0.8582063  0.87598078 0.87312564 0.87890644 0.95440005 0.87936351\n",
      " 0.88202871 0.87434467 0.8590238  0.86157682 0.84033575 0.80209495\n",
      " 0.80958961 0.8160946  0.80726762 0.82984379 0.81839993 0.84284934\n",
      " 0.83856969 0.84222955 0.83703633 0.82347374 0.8390312  0.83492871\n",
      " 0.82646272 0.83665701 0.84576723 0.8464481  0.85780366 0.88060697\n",
      " 0.88134838 0.8930255  0.89324764 0.9155228  0.93105859 0.93176058\n",
      " 0.9294347  0.92984956 0.93640288 0.97696622 0.88941118 0.8944228\n",
      " 0.87984723 0.8801077  0.89559573 0.89683697 0.89910786 0.90135431\n",
      " 0.91251161 0.91094548 0.91113375 0.91592655 0.92147965 0.93957568\n",
      " 0.9510312  0.9620541  0.97058396 0.9731242  0.97445152 0.97270989\n",
      " 0.95458832 0.93467291 0.9393191  0.93801899 0.93331282 0.9354843\n",
      " 0.9322343  0.91268433 0.92161682 0.91148751 0.90246782 0.9024656\n",
      " 0.87889867 0.89584398 0.90132599 0.89947218 0.89552575 0.90627208\n",
      " 0.90089336 0.91005634 0.90046073 0.93670999 0.9574329  0.96083285\n",
      " 0.96878957 0.93522383 0.91718834 0.91935093 0.91396833 0.91728275\n",
      " 0.92472576 0.92791522 0.91761875 0.92565322 0.92714327 0.91778258\n",
      " 0.90322479 0.9143632  0.93219598 0.94432572 0.95383247 0.95423233\n",
      " 0.952283   0.94186434 0.94781564 0.90935547 0.91221948 0.90925383\n",
      " 0.90088003 0.90982641 0.91382893 0.90854074 0.91344351 0.92206389\n",
      " 0.8965293  0.88622782 0.88700367 0.86859219 0.86985287 0.87887201\n",
      " 0.86517227 0.86321336 0.85847425 0.85323977 0.8488121  0.84530604]\n",
      "6 day output [[0.84232014]]\n",
      "7 day input [0.90823085 0.91027071 0.89718685 0.84997079 0.83924224 0.84624151\n",
      " 0.88890024 0.88759125 0.89578789 0.88728357 0.86509506 0.87694878\n",
      " 0.86994062 0.87194549 0.8700267  0.8605455  0.87105635 0.86858831\n",
      " 0.85985963 0.85871724 0.86986509 0.86848334 0.87140567 0.8582063\n",
      " 0.87598078 0.87312564 0.87890644 0.95440005 0.87936351 0.88202871\n",
      " 0.87434467 0.8590238  0.86157682 0.84033575 0.80209495 0.80958961\n",
      " 0.8160946  0.80726762 0.82984379 0.81839993 0.84284934 0.83856969\n",
      " 0.84222955 0.83703633 0.82347374 0.8390312  0.83492871 0.82646272\n",
      " 0.83665701 0.84576723 0.8464481  0.85780366 0.88060697 0.88134838\n",
      " 0.8930255  0.89324764 0.9155228  0.93105859 0.93176058 0.9294347\n",
      " 0.92984956 0.93640288 0.97696622 0.88941118 0.8944228  0.87984723\n",
      " 0.8801077  0.89559573 0.89683697 0.89910786 0.90135431 0.91251161\n",
      " 0.91094548 0.91113375 0.91592655 0.92147965 0.93957568 0.9510312\n",
      " 0.9620541  0.97058396 0.9731242  0.97445152 0.97270989 0.95458832\n",
      " 0.93467291 0.9393191  0.93801899 0.93331282 0.9354843  0.9322343\n",
      " 0.91268433 0.92161682 0.91148751 0.90246782 0.9024656  0.87889867\n",
      " 0.89584398 0.90132599 0.89947218 0.89552575 0.90627208 0.90089336\n",
      " 0.91005634 0.90046073 0.93670999 0.9574329  0.96083285 0.96878957\n",
      " 0.93522383 0.91718834 0.91935093 0.91396833 0.91728275 0.92472576\n",
      " 0.92791522 0.91761875 0.92565322 0.92714327 0.91778258 0.90322479\n",
      " 0.9143632  0.93219598 0.94432572 0.95383247 0.95423233 0.952283\n",
      " 0.94186434 0.94781564 0.90935547 0.91221948 0.90925383 0.90088003\n",
      " 0.90982641 0.91382893 0.90854074 0.91344351 0.92206389 0.8965293\n",
      " 0.88622782 0.88700367 0.86859219 0.86985287 0.87887201 0.86517227\n",
      " 0.86321336 0.85847425 0.85323977 0.8488121  0.84530604 0.84232014]\n",
      "7 day output [[0.83950603]]\n",
      "8 day input [0.91027071 0.89718685 0.84997079 0.83924224 0.84624151 0.88890024\n",
      " 0.88759125 0.89578789 0.88728357 0.86509506 0.87694878 0.86994062\n",
      " 0.87194549 0.8700267  0.8605455  0.87105635 0.86858831 0.85985963\n",
      " 0.85871724 0.86986509 0.86848334 0.87140567 0.8582063  0.87598078\n",
      " 0.87312564 0.87890644 0.95440005 0.87936351 0.88202871 0.87434467\n",
      " 0.8590238  0.86157682 0.84033575 0.80209495 0.80958961 0.8160946\n",
      " 0.80726762 0.82984379 0.81839993 0.84284934 0.83856969 0.84222955\n",
      " 0.83703633 0.82347374 0.8390312  0.83492871 0.82646272 0.83665701\n",
      " 0.84576723 0.8464481  0.85780366 0.88060697 0.88134838 0.8930255\n",
      " 0.89324764 0.9155228  0.93105859 0.93176058 0.9294347  0.92984956\n",
      " 0.93640288 0.97696622 0.88941118 0.8944228  0.87984723 0.8801077\n",
      " 0.89559573 0.89683697 0.89910786 0.90135431 0.91251161 0.91094548\n",
      " 0.91113375 0.91592655 0.92147965 0.93957568 0.9510312  0.9620541\n",
      " 0.97058396 0.9731242  0.97445152 0.97270989 0.95458832 0.93467291\n",
      " 0.9393191  0.93801899 0.93331282 0.9354843  0.9322343  0.91268433\n",
      " 0.92161682 0.91148751 0.90246782 0.9024656  0.87889867 0.89584398\n",
      " 0.90132599 0.89947218 0.89552575 0.90627208 0.90089336 0.91005634\n",
      " 0.90046073 0.93670999 0.9574329  0.96083285 0.96878957 0.93522383\n",
      " 0.91718834 0.91935093 0.91396833 0.91728275 0.92472576 0.92791522\n",
      " 0.91761875 0.92565322 0.92714327 0.91778258 0.90322479 0.9143632\n",
      " 0.93219598 0.94432572 0.95383247 0.95423233 0.952283   0.94186434\n",
      " 0.94781564 0.90935547 0.91221948 0.90925383 0.90088003 0.90982641\n",
      " 0.91382893 0.90854074 0.91344351 0.92206389 0.8965293  0.88622782\n",
      " 0.88700367 0.86859219 0.86985287 0.87887201 0.86517227 0.86321336\n",
      " 0.85847425 0.85323977 0.8488121  0.84530604 0.84232014 0.83950603]\n",
      "8 day output [[0.8367482]]\n",
      "9 day input [0.89718685 0.84997079 0.83924224 0.84624151 0.88890024 0.88759125\n",
      " 0.89578789 0.88728357 0.86509506 0.87694878 0.86994062 0.87194549\n",
      " 0.8700267  0.8605455  0.87105635 0.86858831 0.85985963 0.85871724\n",
      " 0.86986509 0.86848334 0.87140567 0.8582063  0.87598078 0.87312564\n",
      " 0.87890644 0.95440005 0.87936351 0.88202871 0.87434467 0.8590238\n",
      " 0.86157682 0.84033575 0.80209495 0.80958961 0.8160946  0.80726762\n",
      " 0.82984379 0.81839993 0.84284934 0.83856969 0.84222955 0.83703633\n",
      " 0.82347374 0.8390312  0.83492871 0.82646272 0.83665701 0.84576723\n",
      " 0.8464481  0.85780366 0.88060697 0.88134838 0.8930255  0.89324764\n",
      " 0.9155228  0.93105859 0.93176058 0.9294347  0.92984956 0.93640288\n",
      " 0.97696622 0.88941118 0.8944228  0.87984723 0.8801077  0.89559573\n",
      " 0.89683697 0.89910786 0.90135431 0.91251161 0.91094548 0.91113375\n",
      " 0.91592655 0.92147965 0.93957568 0.9510312  0.9620541  0.97058396\n",
      " 0.9731242  0.97445152 0.97270989 0.95458832 0.93467291 0.9393191\n",
      " 0.93801899 0.93331282 0.9354843  0.9322343  0.91268433 0.92161682\n",
      " 0.91148751 0.90246782 0.9024656  0.87889867 0.89584398 0.90132599\n",
      " 0.89947218 0.89552575 0.90627208 0.90089336 0.91005634 0.90046073\n",
      " 0.93670999 0.9574329  0.96083285 0.96878957 0.93522383 0.91718834\n",
      " 0.91935093 0.91396833 0.91728275 0.92472576 0.92791522 0.91761875\n",
      " 0.92565322 0.92714327 0.91778258 0.90322479 0.9143632  0.93219598\n",
      " 0.94432572 0.95383247 0.95423233 0.952283   0.94186434 0.94781564\n",
      " 0.90935547 0.91221948 0.90925383 0.90088003 0.90982641 0.91382893\n",
      " 0.90854074 0.91344351 0.92206389 0.8965293  0.88622782 0.88700367\n",
      " 0.86859219 0.86985287 0.87887201 0.86517227 0.86321336 0.85847425\n",
      " 0.85323977 0.8488121  0.84530604 0.84232014 0.83950603 0.83674818]\n",
      "9 day output [[0.83408475]]\n",
      "10 day input [0.84997079 0.83924224 0.84624151 0.88890024 0.88759125 0.89578789\n",
      " 0.88728357 0.86509506 0.87694878 0.86994062 0.87194549 0.8700267\n",
      " 0.8605455  0.87105635 0.86858831 0.85985963 0.85871724 0.86986509\n",
      " 0.86848334 0.87140567 0.8582063  0.87598078 0.87312564 0.87890644\n",
      " 0.95440005 0.87936351 0.88202871 0.87434467 0.8590238  0.86157682\n",
      " 0.84033575 0.80209495 0.80958961 0.8160946  0.80726762 0.82984379\n",
      " 0.81839993 0.84284934 0.83856969 0.84222955 0.83703633 0.82347374\n",
      " 0.8390312  0.83492871 0.82646272 0.83665701 0.84576723 0.8464481\n",
      " 0.85780366 0.88060697 0.88134838 0.8930255  0.89324764 0.9155228\n",
      " 0.93105859 0.93176058 0.9294347  0.92984956 0.93640288 0.97696622\n",
      " 0.88941118 0.8944228  0.87984723 0.8801077  0.89559573 0.89683697\n",
      " 0.89910786 0.90135431 0.91251161 0.91094548 0.91113375 0.91592655\n",
      " 0.92147965 0.93957568 0.9510312  0.9620541  0.97058396 0.9731242\n",
      " 0.97445152 0.97270989 0.95458832 0.93467291 0.9393191  0.93801899\n",
      " 0.93331282 0.9354843  0.9322343  0.91268433 0.92161682 0.91148751\n",
      " 0.90246782 0.9024656  0.87889867 0.89584398 0.90132599 0.89947218\n",
      " 0.89552575 0.90627208 0.90089336 0.91005634 0.90046073 0.93670999\n",
      " 0.9574329  0.96083285 0.96878957 0.93522383 0.91718834 0.91935093\n",
      " 0.91396833 0.91728275 0.92472576 0.92791522 0.91761875 0.92565322\n",
      " 0.92714327 0.91778258 0.90322479 0.9143632  0.93219598 0.94432572\n",
      " 0.95383247 0.95423233 0.952283   0.94186434 0.94781564 0.90935547\n",
      " 0.91221948 0.90925383 0.90088003 0.90982641 0.91382893 0.90854074\n",
      " 0.91344351 0.92206389 0.8965293  0.88622782 0.88700367 0.86859219\n",
      " 0.86985287 0.87887201 0.86517227 0.86321336 0.85847425 0.85323977\n",
      " 0.8488121  0.84530604 0.84232014 0.83950603 0.83674818 0.83408475]\n",
      "10 day output [[0.8315811]]\n",
      "11 day input [0.83924224 0.84624151 0.88890024 0.88759125 0.89578789 0.88728357\n",
      " 0.86509506 0.87694878 0.86994062 0.87194549 0.8700267  0.8605455\n",
      " 0.87105635 0.86858831 0.85985963 0.85871724 0.86986509 0.86848334\n",
      " 0.87140567 0.8582063  0.87598078 0.87312564 0.87890644 0.95440005\n",
      " 0.87936351 0.88202871 0.87434467 0.8590238  0.86157682 0.84033575\n",
      " 0.80209495 0.80958961 0.8160946  0.80726762 0.82984379 0.81839993\n",
      " 0.84284934 0.83856969 0.84222955 0.83703633 0.82347374 0.8390312\n",
      " 0.83492871 0.82646272 0.83665701 0.84576723 0.8464481  0.85780366\n",
      " 0.88060697 0.88134838 0.8930255  0.89324764 0.9155228  0.93105859\n",
      " 0.93176058 0.9294347  0.92984956 0.93640288 0.97696622 0.88941118\n",
      " 0.8944228  0.87984723 0.8801077  0.89559573 0.89683697 0.89910786\n",
      " 0.90135431 0.91251161 0.91094548 0.91113375 0.91592655 0.92147965\n",
      " 0.93957568 0.9510312  0.9620541  0.97058396 0.9731242  0.97445152\n",
      " 0.97270989 0.95458832 0.93467291 0.9393191  0.93801899 0.93331282\n",
      " 0.9354843  0.9322343  0.91268433 0.92161682 0.91148751 0.90246782\n",
      " 0.9024656  0.87889867 0.89584398 0.90132599 0.89947218 0.89552575\n",
      " 0.90627208 0.90089336 0.91005634 0.90046073 0.93670999 0.9574329\n",
      " 0.96083285 0.96878957 0.93522383 0.91718834 0.91935093 0.91396833\n",
      " 0.91728275 0.92472576 0.92791522 0.91761875 0.92565322 0.92714327\n",
      " 0.91778258 0.90322479 0.9143632  0.93219598 0.94432572 0.95383247\n",
      " 0.95423233 0.952283   0.94186434 0.94781564 0.90935547 0.91221948\n",
      " 0.90925383 0.90088003 0.90982641 0.91382893 0.90854074 0.91344351\n",
      " 0.92206389 0.8965293  0.88622782 0.88700367 0.86859219 0.86985287\n",
      " 0.87887201 0.86517227 0.86321336 0.85847425 0.85323977 0.8488121\n",
      " 0.84530604 0.84232014 0.83950603 0.83674818 0.83408475 0.83158112]\n",
      "11 day output [[0.829264]]\n",
      "12 day input [0.84624151 0.88890024 0.88759125 0.89578789 0.88728357 0.86509506\n",
      " 0.87694878 0.86994062 0.87194549 0.8700267  0.8605455  0.87105635\n",
      " 0.86858831 0.85985963 0.85871724 0.86986509 0.86848334 0.87140567\n",
      " 0.8582063  0.87598078 0.87312564 0.87890644 0.95440005 0.87936351\n",
      " 0.88202871 0.87434467 0.8590238  0.86157682 0.84033575 0.80209495\n",
      " 0.80958961 0.8160946  0.80726762 0.82984379 0.81839993 0.84284934\n",
      " 0.83856969 0.84222955 0.83703633 0.82347374 0.8390312  0.83492871\n",
      " 0.82646272 0.83665701 0.84576723 0.8464481  0.85780366 0.88060697\n",
      " 0.88134838 0.8930255  0.89324764 0.9155228  0.93105859 0.93176058\n",
      " 0.9294347  0.92984956 0.93640288 0.97696622 0.88941118 0.8944228\n",
      " 0.87984723 0.8801077  0.89559573 0.89683697 0.89910786 0.90135431\n",
      " 0.91251161 0.91094548 0.91113375 0.91592655 0.92147965 0.93957568\n",
      " 0.9510312  0.9620541  0.97058396 0.9731242  0.97445152 0.97270989\n",
      " 0.95458832 0.93467291 0.9393191  0.93801899 0.93331282 0.9354843\n",
      " 0.9322343  0.91268433 0.92161682 0.91148751 0.90246782 0.9024656\n",
      " 0.87889867 0.89584398 0.90132599 0.89947218 0.89552575 0.90627208\n",
      " 0.90089336 0.91005634 0.90046073 0.93670999 0.9574329  0.96083285\n",
      " 0.96878957 0.93522383 0.91718834 0.91935093 0.91396833 0.91728275\n",
      " 0.92472576 0.92791522 0.91761875 0.92565322 0.92714327 0.91778258\n",
      " 0.90322479 0.9143632  0.93219598 0.94432572 0.95383247 0.95423233\n",
      " 0.952283   0.94186434 0.94781564 0.90935547 0.91221948 0.90925383\n",
      " 0.90088003 0.90982641 0.91382893 0.90854074 0.91344351 0.92206389\n",
      " 0.8965293  0.88622782 0.88700367 0.86859219 0.86985287 0.87887201\n",
      " 0.86517227 0.86321336 0.85847425 0.85323977 0.8488121  0.84530604\n",
      " 0.84232014 0.83950603 0.83674818 0.83408475 0.83158112 0.82926399]\n",
      "12 day output [[0.8271198]]\n",
      "13 day input [0.88890024 0.88759125 0.89578789 0.88728357 0.86509506 0.87694878\n",
      " 0.86994062 0.87194549 0.8700267  0.8605455  0.87105635 0.86858831\n",
      " 0.85985963 0.85871724 0.86986509 0.86848334 0.87140567 0.8582063\n",
      " 0.87598078 0.87312564 0.87890644 0.95440005 0.87936351 0.88202871\n",
      " 0.87434467 0.8590238  0.86157682 0.84033575 0.80209495 0.80958961\n",
      " 0.8160946  0.80726762 0.82984379 0.81839993 0.84284934 0.83856969\n",
      " 0.84222955 0.83703633 0.82347374 0.8390312  0.83492871 0.82646272\n",
      " 0.83665701 0.84576723 0.8464481  0.85780366 0.88060697 0.88134838\n",
      " 0.8930255  0.89324764 0.9155228  0.93105859 0.93176058 0.9294347\n",
      " 0.92984956 0.93640288 0.97696622 0.88941118 0.8944228  0.87984723\n",
      " 0.8801077  0.89559573 0.89683697 0.89910786 0.90135431 0.91251161\n",
      " 0.91094548 0.91113375 0.91592655 0.92147965 0.93957568 0.9510312\n",
      " 0.9620541  0.97058396 0.9731242  0.97445152 0.97270989 0.95458832\n",
      " 0.93467291 0.9393191  0.93801899 0.93331282 0.9354843  0.9322343\n",
      " 0.91268433 0.92161682 0.91148751 0.90246782 0.9024656  0.87889867\n",
      " 0.89584398 0.90132599 0.89947218 0.89552575 0.90627208 0.90089336\n",
      " 0.91005634 0.90046073 0.93670999 0.9574329  0.96083285 0.96878957\n",
      " 0.93522383 0.91718834 0.91935093 0.91396833 0.91728275 0.92472576\n",
      " 0.92791522 0.91761875 0.92565322 0.92714327 0.91778258 0.90322479\n",
      " 0.9143632  0.93219598 0.94432572 0.95383247 0.95423233 0.952283\n",
      " 0.94186434 0.94781564 0.90935547 0.91221948 0.90925383 0.90088003\n",
      " 0.90982641 0.91382893 0.90854074 0.91344351 0.92206389 0.8965293\n",
      " 0.88622782 0.88700367 0.86859219 0.86985287 0.87887201 0.86517227\n",
      " 0.86321336 0.85847425 0.85323977 0.8488121  0.84530604 0.84232014\n",
      " 0.83950603 0.83674818 0.83408475 0.83158112 0.82926399 0.82711983]\n",
      "13 day output [[0.82512033]]\n",
      "14 day input [0.88759125 0.89578789 0.88728357 0.86509506 0.87694878 0.86994062\n",
      " 0.87194549 0.8700267  0.8605455  0.87105635 0.86858831 0.85985963\n",
      " 0.85871724 0.86986509 0.86848334 0.87140567 0.8582063  0.87598078\n",
      " 0.87312564 0.87890644 0.95440005 0.87936351 0.88202871 0.87434467\n",
      " 0.8590238  0.86157682 0.84033575 0.80209495 0.80958961 0.8160946\n",
      " 0.80726762 0.82984379 0.81839993 0.84284934 0.83856969 0.84222955\n",
      " 0.83703633 0.82347374 0.8390312  0.83492871 0.82646272 0.83665701\n",
      " 0.84576723 0.8464481  0.85780366 0.88060697 0.88134838 0.8930255\n",
      " 0.89324764 0.9155228  0.93105859 0.93176058 0.9294347  0.92984956\n",
      " 0.93640288 0.97696622 0.88941118 0.8944228  0.87984723 0.8801077\n",
      " 0.89559573 0.89683697 0.89910786 0.90135431 0.91251161 0.91094548\n",
      " 0.91113375 0.91592655 0.92147965 0.93957568 0.9510312  0.9620541\n",
      " 0.97058396 0.9731242  0.97445152 0.97270989 0.95458832 0.93467291\n",
      " 0.9393191  0.93801899 0.93331282 0.9354843  0.9322343  0.91268433\n",
      " 0.92161682 0.91148751 0.90246782 0.9024656  0.87889867 0.89584398\n",
      " 0.90132599 0.89947218 0.89552575 0.90627208 0.90089336 0.91005634\n",
      " 0.90046073 0.93670999 0.9574329  0.96083285 0.96878957 0.93522383\n",
      " 0.91718834 0.91935093 0.91396833 0.91728275 0.92472576 0.92791522\n",
      " 0.91761875 0.92565322 0.92714327 0.91778258 0.90322479 0.9143632\n",
      " 0.93219598 0.94432572 0.95383247 0.95423233 0.952283   0.94186434\n",
      " 0.94781564 0.90935547 0.91221948 0.90925383 0.90088003 0.90982641\n",
      " 0.91382893 0.90854074 0.91344351 0.92206389 0.8965293  0.88622782\n",
      " 0.88700367 0.86859219 0.86985287 0.87887201 0.86517227 0.86321336\n",
      " 0.85847425 0.85323977 0.8488121  0.84530604 0.84232014 0.83950603\n",
      " 0.83674818 0.83408475 0.83158112 0.82926399 0.82711983 0.82512033]\n",
      "14 day output [[0.8232418]]\n",
      "15 day input [0.89578789 0.88728357 0.86509506 0.87694878 0.86994062 0.87194549\n",
      " 0.8700267  0.8605455  0.87105635 0.86858831 0.85985963 0.85871724\n",
      " 0.86986509 0.86848334 0.87140567 0.8582063  0.87598078 0.87312564\n",
      " 0.87890644 0.95440005 0.87936351 0.88202871 0.87434467 0.8590238\n",
      " 0.86157682 0.84033575 0.80209495 0.80958961 0.8160946  0.80726762\n",
      " 0.82984379 0.81839993 0.84284934 0.83856969 0.84222955 0.83703633\n",
      " 0.82347374 0.8390312  0.83492871 0.82646272 0.83665701 0.84576723\n",
      " 0.8464481  0.85780366 0.88060697 0.88134838 0.8930255  0.89324764\n",
      " 0.9155228  0.93105859 0.93176058 0.9294347  0.92984956 0.93640288\n",
      " 0.97696622 0.88941118 0.8944228  0.87984723 0.8801077  0.89559573\n",
      " 0.89683697 0.89910786 0.90135431 0.91251161 0.91094548 0.91113375\n",
      " 0.91592655 0.92147965 0.93957568 0.9510312  0.9620541  0.97058396\n",
      " 0.9731242  0.97445152 0.97270989 0.95458832 0.93467291 0.9393191\n",
      " 0.93801899 0.93331282 0.9354843  0.9322343  0.91268433 0.92161682\n",
      " 0.91148751 0.90246782 0.9024656  0.87889867 0.89584398 0.90132599\n",
      " 0.89947218 0.89552575 0.90627208 0.90089336 0.91005634 0.90046073\n",
      " 0.93670999 0.9574329  0.96083285 0.96878957 0.93522383 0.91718834\n",
      " 0.91935093 0.91396833 0.91728275 0.92472576 0.92791522 0.91761875\n",
      " 0.92565322 0.92714327 0.91778258 0.90322479 0.9143632  0.93219598\n",
      " 0.94432572 0.95383247 0.95423233 0.952283   0.94186434 0.94781564\n",
      " 0.90935547 0.91221948 0.90925383 0.90088003 0.90982641 0.91382893\n",
      " 0.90854074 0.91344351 0.92206389 0.8965293  0.88622782 0.88700367\n",
      " 0.86859219 0.86985287 0.87887201 0.86517227 0.86321336 0.85847425\n",
      " 0.85323977 0.8488121  0.84530604 0.84232014 0.83950603 0.83674818\n",
      " 0.83408475 0.83158112 0.82926399 0.82711983 0.82512033 0.82324177]\n",
      "15 day output [[0.82147133]]\n",
      "16 day input [0.88728357 0.86509506 0.87694878 0.86994062 0.87194549 0.8700267\n",
      " 0.8605455  0.87105635 0.86858831 0.85985963 0.85871724 0.86986509\n",
      " 0.86848334 0.87140567 0.8582063  0.87598078 0.87312564 0.87890644\n",
      " 0.95440005 0.87936351 0.88202871 0.87434467 0.8590238  0.86157682\n",
      " 0.84033575 0.80209495 0.80958961 0.8160946  0.80726762 0.82984379\n",
      " 0.81839993 0.84284934 0.83856969 0.84222955 0.83703633 0.82347374\n",
      " 0.8390312  0.83492871 0.82646272 0.83665701 0.84576723 0.8464481\n",
      " 0.85780366 0.88060697 0.88134838 0.8930255  0.89324764 0.9155228\n",
      " 0.93105859 0.93176058 0.9294347  0.92984956 0.93640288 0.97696622\n",
      " 0.88941118 0.8944228  0.87984723 0.8801077  0.89559573 0.89683697\n",
      " 0.89910786 0.90135431 0.91251161 0.91094548 0.91113375 0.91592655\n",
      " 0.92147965 0.93957568 0.9510312  0.9620541  0.97058396 0.9731242\n",
      " 0.97445152 0.97270989 0.95458832 0.93467291 0.9393191  0.93801899\n",
      " 0.93331282 0.9354843  0.9322343  0.91268433 0.92161682 0.91148751\n",
      " 0.90246782 0.9024656  0.87889867 0.89584398 0.90132599 0.89947218\n",
      " 0.89552575 0.90627208 0.90089336 0.91005634 0.90046073 0.93670999\n",
      " 0.9574329  0.96083285 0.96878957 0.93522383 0.91718834 0.91935093\n",
      " 0.91396833 0.91728275 0.92472576 0.92791522 0.91761875 0.92565322\n",
      " 0.92714327 0.91778258 0.90322479 0.9143632  0.93219598 0.94432572\n",
      " 0.95383247 0.95423233 0.952283   0.94186434 0.94781564 0.90935547\n",
      " 0.91221948 0.90925383 0.90088003 0.90982641 0.91382893 0.90854074\n",
      " 0.91344351 0.92206389 0.8965293  0.88622782 0.88700367 0.86859219\n",
      " 0.86985287 0.87887201 0.86517227 0.86321336 0.85847425 0.85323977\n",
      " 0.8488121  0.84530604 0.84232014 0.83950603 0.83674818 0.83408475\n",
      " 0.83158112 0.82926399 0.82711983 0.82512033 0.82324177 0.82147133]\n",
      "16 day output [[0.8198029]]\n",
      "17 day input [0.86509506 0.87694878 0.86994062 0.87194549 0.8700267  0.8605455\n",
      " 0.87105635 0.86858831 0.85985963 0.85871724 0.86986509 0.86848334\n",
      " 0.87140567 0.8582063  0.87598078 0.87312564 0.87890644 0.95440005\n",
      " 0.87936351 0.88202871 0.87434467 0.8590238  0.86157682 0.84033575\n",
      " 0.80209495 0.80958961 0.8160946  0.80726762 0.82984379 0.81839993\n",
      " 0.84284934 0.83856969 0.84222955 0.83703633 0.82347374 0.8390312\n",
      " 0.83492871 0.82646272 0.83665701 0.84576723 0.8464481  0.85780366\n",
      " 0.88060697 0.88134838 0.8930255  0.89324764 0.9155228  0.93105859\n",
      " 0.93176058 0.9294347  0.92984956 0.93640288 0.97696622 0.88941118\n",
      " 0.8944228  0.87984723 0.8801077  0.89559573 0.89683697 0.89910786\n",
      " 0.90135431 0.91251161 0.91094548 0.91113375 0.91592655 0.92147965\n",
      " 0.93957568 0.9510312  0.9620541  0.97058396 0.9731242  0.97445152\n",
      " 0.97270989 0.95458832 0.93467291 0.9393191  0.93801899 0.93331282\n",
      " 0.9354843  0.9322343  0.91268433 0.92161682 0.91148751 0.90246782\n",
      " 0.9024656  0.87889867 0.89584398 0.90132599 0.89947218 0.89552575\n",
      " 0.90627208 0.90089336 0.91005634 0.90046073 0.93670999 0.9574329\n",
      " 0.96083285 0.96878957 0.93522383 0.91718834 0.91935093 0.91396833\n",
      " 0.91728275 0.92472576 0.92791522 0.91761875 0.92565322 0.92714327\n",
      " 0.91778258 0.90322479 0.9143632  0.93219598 0.94432572 0.95383247\n",
      " 0.95423233 0.952283   0.94186434 0.94781564 0.90935547 0.91221948\n",
      " 0.90925383 0.90088003 0.90982641 0.91382893 0.90854074 0.91344351\n",
      " 0.92206389 0.8965293  0.88622782 0.88700367 0.86859219 0.86985287\n",
      " 0.87887201 0.86517227 0.86321336 0.85847425 0.85323977 0.8488121\n",
      " 0.84530604 0.84232014 0.83950603 0.83674818 0.83408475 0.83158112\n",
      " 0.82926399 0.82711983 0.82512033 0.82324177 0.82147133 0.81980288]\n",
      "17 day output [[0.8182329]]\n",
      "18 day input [0.87694878 0.86994062 0.87194549 0.8700267  0.8605455  0.87105635\n",
      " 0.86858831 0.85985963 0.85871724 0.86986509 0.86848334 0.87140567\n",
      " 0.8582063  0.87598078 0.87312564 0.87890644 0.95440005 0.87936351\n",
      " 0.88202871 0.87434467 0.8590238  0.86157682 0.84033575 0.80209495\n",
      " 0.80958961 0.8160946  0.80726762 0.82984379 0.81839993 0.84284934\n",
      " 0.83856969 0.84222955 0.83703633 0.82347374 0.8390312  0.83492871\n",
      " 0.82646272 0.83665701 0.84576723 0.8464481  0.85780366 0.88060697\n",
      " 0.88134838 0.8930255  0.89324764 0.9155228  0.93105859 0.93176058\n",
      " 0.9294347  0.92984956 0.93640288 0.97696622 0.88941118 0.8944228\n",
      " 0.87984723 0.8801077  0.89559573 0.89683697 0.89910786 0.90135431\n",
      " 0.91251161 0.91094548 0.91113375 0.91592655 0.92147965 0.93957568\n",
      " 0.9510312  0.9620541  0.97058396 0.9731242  0.97445152 0.97270989\n",
      " 0.95458832 0.93467291 0.9393191  0.93801899 0.93331282 0.9354843\n",
      " 0.9322343  0.91268433 0.92161682 0.91148751 0.90246782 0.9024656\n",
      " 0.87889867 0.89584398 0.90132599 0.89947218 0.89552575 0.90627208\n",
      " 0.90089336 0.91005634 0.90046073 0.93670999 0.9574329  0.96083285\n",
      " 0.96878957 0.93522383 0.91718834 0.91935093 0.91396833 0.91728275\n",
      " 0.92472576 0.92791522 0.91761875 0.92565322 0.92714327 0.91778258\n",
      " 0.90322479 0.9143632  0.93219598 0.94432572 0.95383247 0.95423233\n",
      " 0.952283   0.94186434 0.94781564 0.90935547 0.91221948 0.90925383\n",
      " 0.90088003 0.90982641 0.91382893 0.90854074 0.91344351 0.92206389\n",
      " 0.8965293  0.88622782 0.88700367 0.86859219 0.86985287 0.87887201\n",
      " 0.86517227 0.86321336 0.85847425 0.85323977 0.8488121  0.84530604\n",
      " 0.84232014 0.83950603 0.83674818 0.83408475 0.83158112 0.82926399\n",
      " 0.82711983 0.82512033 0.82324177 0.82147133 0.81980288 0.81823289]\n",
      "18 day output [[0.8167565]]\n",
      "19 day input [0.86994062 0.87194549 0.8700267  0.8605455  0.87105635 0.86858831\n",
      " 0.85985963 0.85871724 0.86986509 0.86848334 0.87140567 0.8582063\n",
      " 0.87598078 0.87312564 0.87890644 0.95440005 0.87936351 0.88202871\n",
      " 0.87434467 0.8590238  0.86157682 0.84033575 0.80209495 0.80958961\n",
      " 0.8160946  0.80726762 0.82984379 0.81839993 0.84284934 0.83856969\n",
      " 0.84222955 0.83703633 0.82347374 0.8390312  0.83492871 0.82646272\n",
      " 0.83665701 0.84576723 0.8464481  0.85780366 0.88060697 0.88134838\n",
      " 0.8930255  0.89324764 0.9155228  0.93105859 0.93176058 0.9294347\n",
      " 0.92984956 0.93640288 0.97696622 0.88941118 0.8944228  0.87984723\n",
      " 0.8801077  0.89559573 0.89683697 0.89910786 0.90135431 0.91251161\n",
      " 0.91094548 0.91113375 0.91592655 0.92147965 0.93957568 0.9510312\n",
      " 0.9620541  0.97058396 0.9731242  0.97445152 0.97270989 0.95458832\n",
      " 0.93467291 0.9393191  0.93801899 0.93331282 0.9354843  0.9322343\n",
      " 0.91268433 0.92161682 0.91148751 0.90246782 0.9024656  0.87889867\n",
      " 0.89584398 0.90132599 0.89947218 0.89552575 0.90627208 0.90089336\n",
      " 0.91005634 0.90046073 0.93670999 0.9574329  0.96083285 0.96878957\n",
      " 0.93522383 0.91718834 0.91935093 0.91396833 0.91728275 0.92472576\n",
      " 0.92791522 0.91761875 0.92565322 0.92714327 0.91778258 0.90322479\n",
      " 0.9143632  0.93219598 0.94432572 0.95383247 0.95423233 0.952283\n",
      " 0.94186434 0.94781564 0.90935547 0.91221948 0.90925383 0.90088003\n",
      " 0.90982641 0.91382893 0.90854074 0.91344351 0.92206389 0.8965293\n",
      " 0.88622782 0.88700367 0.86859219 0.86985287 0.87887201 0.86517227\n",
      " 0.86321336 0.85847425 0.85323977 0.8488121  0.84530604 0.84232014\n",
      " 0.83950603 0.83674818 0.83408475 0.83158112 0.82926399 0.82711983\n",
      " 0.82512033 0.82324177 0.82147133 0.81980288 0.81823289 0.81675649]\n",
      "19 day output [[0.81536794]]\n",
      "20 day input [0.87194549 0.8700267  0.8605455  0.87105635 0.86858831 0.85985963\n",
      " 0.85871724 0.86986509 0.86848334 0.87140567 0.8582063  0.87598078\n",
      " 0.87312564 0.87890644 0.95440005 0.87936351 0.88202871 0.87434467\n",
      " 0.8590238  0.86157682 0.84033575 0.80209495 0.80958961 0.8160946\n",
      " 0.80726762 0.82984379 0.81839993 0.84284934 0.83856969 0.84222955\n",
      " 0.83703633 0.82347374 0.8390312  0.83492871 0.82646272 0.83665701\n",
      " 0.84576723 0.8464481  0.85780366 0.88060697 0.88134838 0.8930255\n",
      " 0.89324764 0.9155228  0.93105859 0.93176058 0.9294347  0.92984956\n",
      " 0.93640288 0.97696622 0.88941118 0.8944228  0.87984723 0.8801077\n",
      " 0.89559573 0.89683697 0.89910786 0.90135431 0.91251161 0.91094548\n",
      " 0.91113375 0.91592655 0.92147965 0.93957568 0.9510312  0.9620541\n",
      " 0.97058396 0.9731242  0.97445152 0.97270989 0.95458832 0.93467291\n",
      " 0.9393191  0.93801899 0.93331282 0.9354843  0.9322343  0.91268433\n",
      " 0.92161682 0.91148751 0.90246782 0.9024656  0.87889867 0.89584398\n",
      " 0.90132599 0.89947218 0.89552575 0.90627208 0.90089336 0.91005634\n",
      " 0.90046073 0.93670999 0.9574329  0.96083285 0.96878957 0.93522383\n",
      " 0.91718834 0.91935093 0.91396833 0.91728275 0.92472576 0.92791522\n",
      " 0.91761875 0.92565322 0.92714327 0.91778258 0.90322479 0.9143632\n",
      " 0.93219598 0.94432572 0.95383247 0.95423233 0.952283   0.94186434\n",
      " 0.94781564 0.90935547 0.91221948 0.90925383 0.90088003 0.90982641\n",
      " 0.91382893 0.90854074 0.91344351 0.92206389 0.8965293  0.88622782\n",
      " 0.88700367 0.86859219 0.86985287 0.87887201 0.86517227 0.86321336\n",
      " 0.85847425 0.85323977 0.8488121  0.84530604 0.84232014 0.83950603\n",
      " 0.83674818 0.83408475 0.83158112 0.82926399 0.82711983 0.82512033\n",
      " 0.82324177 0.82147133 0.81980288 0.81823289 0.81675649 0.81536794]\n",
      "20 day output [[0.8140614]]\n",
      "21 day input [0.8700267  0.8605455  0.87105635 0.86858831 0.85985963 0.85871724\n",
      " 0.86986509 0.86848334 0.87140567 0.8582063  0.87598078 0.87312564\n",
      " 0.87890644 0.95440005 0.87936351 0.88202871 0.87434467 0.8590238\n",
      " 0.86157682 0.84033575 0.80209495 0.80958961 0.8160946  0.80726762\n",
      " 0.82984379 0.81839993 0.84284934 0.83856969 0.84222955 0.83703633\n",
      " 0.82347374 0.8390312  0.83492871 0.82646272 0.83665701 0.84576723\n",
      " 0.8464481  0.85780366 0.88060697 0.88134838 0.8930255  0.89324764\n",
      " 0.9155228  0.93105859 0.93176058 0.9294347  0.92984956 0.93640288\n",
      " 0.97696622 0.88941118 0.8944228  0.87984723 0.8801077  0.89559573\n",
      " 0.89683697 0.89910786 0.90135431 0.91251161 0.91094548 0.91113375\n",
      " 0.91592655 0.92147965 0.93957568 0.9510312  0.9620541  0.97058396\n",
      " 0.9731242  0.97445152 0.97270989 0.95458832 0.93467291 0.9393191\n",
      " 0.93801899 0.93331282 0.9354843  0.9322343  0.91268433 0.92161682\n",
      " 0.91148751 0.90246782 0.9024656  0.87889867 0.89584398 0.90132599\n",
      " 0.89947218 0.89552575 0.90627208 0.90089336 0.91005634 0.90046073\n",
      " 0.93670999 0.9574329  0.96083285 0.96878957 0.93522383 0.91718834\n",
      " 0.91935093 0.91396833 0.91728275 0.92472576 0.92791522 0.91761875\n",
      " 0.92565322 0.92714327 0.91778258 0.90322479 0.9143632  0.93219598\n",
      " 0.94432572 0.95383247 0.95423233 0.952283   0.94186434 0.94781564\n",
      " 0.90935547 0.91221948 0.90925383 0.90088003 0.90982641 0.91382893\n",
      " 0.90854074 0.91344351 0.92206389 0.8965293  0.88622782 0.88700367\n",
      " 0.86859219 0.86985287 0.87887201 0.86517227 0.86321336 0.85847425\n",
      " 0.85323977 0.8488121  0.84530604 0.84232014 0.83950603 0.83674818\n",
      " 0.83408475 0.83158112 0.82926399 0.82711983 0.82512033 0.82324177\n",
      " 0.82147133 0.81980288 0.81823289 0.81675649 0.81536794 0.8140614 ]\n",
      "21 day output [[0.8128309]]\n",
      "22 day input [0.8605455  0.87105635 0.86858831 0.85985963 0.85871724 0.86986509\n",
      " 0.86848334 0.87140567 0.8582063  0.87598078 0.87312564 0.87890644\n",
      " 0.95440005 0.87936351 0.88202871 0.87434467 0.8590238  0.86157682\n",
      " 0.84033575 0.80209495 0.80958961 0.8160946  0.80726762 0.82984379\n",
      " 0.81839993 0.84284934 0.83856969 0.84222955 0.83703633 0.82347374\n",
      " 0.8390312  0.83492871 0.82646272 0.83665701 0.84576723 0.8464481\n",
      " 0.85780366 0.88060697 0.88134838 0.8930255  0.89324764 0.9155228\n",
      " 0.93105859 0.93176058 0.9294347  0.92984956 0.93640288 0.97696622\n",
      " 0.88941118 0.8944228  0.87984723 0.8801077  0.89559573 0.89683697\n",
      " 0.89910786 0.90135431 0.91251161 0.91094548 0.91113375 0.91592655\n",
      " 0.92147965 0.93957568 0.9510312  0.9620541  0.97058396 0.9731242\n",
      " 0.97445152 0.97270989 0.95458832 0.93467291 0.9393191  0.93801899\n",
      " 0.93331282 0.9354843  0.9322343  0.91268433 0.92161682 0.91148751\n",
      " 0.90246782 0.9024656  0.87889867 0.89584398 0.90132599 0.89947218\n",
      " 0.89552575 0.90627208 0.90089336 0.91005634 0.90046073 0.93670999\n",
      " 0.9574329  0.96083285 0.96878957 0.93522383 0.91718834 0.91935093\n",
      " 0.91396833 0.91728275 0.92472576 0.92791522 0.91761875 0.92565322\n",
      " 0.92714327 0.91778258 0.90322479 0.9143632  0.93219598 0.94432572\n",
      " 0.95383247 0.95423233 0.952283   0.94186434 0.94781564 0.90935547\n",
      " 0.91221948 0.90925383 0.90088003 0.90982641 0.91382893 0.90854074\n",
      " 0.91344351 0.92206389 0.8965293  0.88622782 0.88700367 0.86859219\n",
      " 0.86985287 0.87887201 0.86517227 0.86321336 0.85847425 0.85323977\n",
      " 0.8488121  0.84530604 0.84232014 0.83950603 0.83674818 0.83408475\n",
      " 0.83158112 0.82926399 0.82711983 0.82512033 0.82324177 0.82147133\n",
      " 0.81980288 0.81823289 0.81675649 0.81536794 0.8140614  0.81283092]\n",
      "22 day output [[0.81167173]]\n",
      "23 day input [0.87105635 0.86858831 0.85985963 0.85871724 0.86986509 0.86848334\n",
      " 0.87140567 0.8582063  0.87598078 0.87312564 0.87890644 0.95440005\n",
      " 0.87936351 0.88202871 0.87434467 0.8590238  0.86157682 0.84033575\n",
      " 0.80209495 0.80958961 0.8160946  0.80726762 0.82984379 0.81839993\n",
      " 0.84284934 0.83856969 0.84222955 0.83703633 0.82347374 0.8390312\n",
      " 0.83492871 0.82646272 0.83665701 0.84576723 0.8464481  0.85780366\n",
      " 0.88060697 0.88134838 0.8930255  0.89324764 0.9155228  0.93105859\n",
      " 0.93176058 0.9294347  0.92984956 0.93640288 0.97696622 0.88941118\n",
      " 0.8944228  0.87984723 0.8801077  0.89559573 0.89683697 0.89910786\n",
      " 0.90135431 0.91251161 0.91094548 0.91113375 0.91592655 0.92147965\n",
      " 0.93957568 0.9510312  0.9620541  0.97058396 0.9731242  0.97445152\n",
      " 0.97270989 0.95458832 0.93467291 0.9393191  0.93801899 0.93331282\n",
      " 0.9354843  0.9322343  0.91268433 0.92161682 0.91148751 0.90246782\n",
      " 0.9024656  0.87889867 0.89584398 0.90132599 0.89947218 0.89552575\n",
      " 0.90627208 0.90089336 0.91005634 0.90046073 0.93670999 0.9574329\n",
      " 0.96083285 0.96878957 0.93522383 0.91718834 0.91935093 0.91396833\n",
      " 0.91728275 0.92472576 0.92791522 0.91761875 0.92565322 0.92714327\n",
      " 0.91778258 0.90322479 0.9143632  0.93219598 0.94432572 0.95383247\n",
      " 0.95423233 0.952283   0.94186434 0.94781564 0.90935547 0.91221948\n",
      " 0.90925383 0.90088003 0.90982641 0.91382893 0.90854074 0.91344351\n",
      " 0.92206389 0.8965293  0.88622782 0.88700367 0.86859219 0.86985287\n",
      " 0.87887201 0.86517227 0.86321336 0.85847425 0.85323977 0.8488121\n",
      " 0.84530604 0.84232014 0.83950603 0.83674818 0.83408475 0.83158112\n",
      " 0.82926399 0.82711983 0.82512033 0.82324177 0.82147133 0.81980288\n",
      " 0.81823289 0.81675649 0.81536794 0.8140614  0.81283092 0.81167173]\n",
      "23 day output [[0.8105794]]\n",
      "24 day input [0.86858831 0.85985963 0.85871724 0.86986509 0.86848334 0.87140567\n",
      " 0.8582063  0.87598078 0.87312564 0.87890644 0.95440005 0.87936351\n",
      " 0.88202871 0.87434467 0.8590238  0.86157682 0.84033575 0.80209495\n",
      " 0.80958961 0.8160946  0.80726762 0.82984379 0.81839993 0.84284934\n",
      " 0.83856969 0.84222955 0.83703633 0.82347374 0.8390312  0.83492871\n",
      " 0.82646272 0.83665701 0.84576723 0.8464481  0.85780366 0.88060697\n",
      " 0.88134838 0.8930255  0.89324764 0.9155228  0.93105859 0.93176058\n",
      " 0.9294347  0.92984956 0.93640288 0.97696622 0.88941118 0.8944228\n",
      " 0.87984723 0.8801077  0.89559573 0.89683697 0.89910786 0.90135431\n",
      " 0.91251161 0.91094548 0.91113375 0.91592655 0.92147965 0.93957568\n",
      " 0.9510312  0.9620541  0.97058396 0.9731242  0.97445152 0.97270989\n",
      " 0.95458832 0.93467291 0.9393191  0.93801899 0.93331282 0.9354843\n",
      " 0.9322343  0.91268433 0.92161682 0.91148751 0.90246782 0.9024656\n",
      " 0.87889867 0.89584398 0.90132599 0.89947218 0.89552575 0.90627208\n",
      " 0.90089336 0.91005634 0.90046073 0.93670999 0.9574329  0.96083285\n",
      " 0.96878957 0.93522383 0.91718834 0.91935093 0.91396833 0.91728275\n",
      " 0.92472576 0.92791522 0.91761875 0.92565322 0.92714327 0.91778258\n",
      " 0.90322479 0.9143632  0.93219598 0.94432572 0.95383247 0.95423233\n",
      " 0.952283   0.94186434 0.94781564 0.90935547 0.91221948 0.90925383\n",
      " 0.90088003 0.90982641 0.91382893 0.90854074 0.91344351 0.92206389\n",
      " 0.8965293  0.88622782 0.88700367 0.86859219 0.86985287 0.87887201\n",
      " 0.86517227 0.86321336 0.85847425 0.85323977 0.8488121  0.84530604\n",
      " 0.84232014 0.83950603 0.83674818 0.83408475 0.83158112 0.82926399\n",
      " 0.82711983 0.82512033 0.82324177 0.82147133 0.81980288 0.81823289\n",
      " 0.81675649 0.81536794 0.8140614  0.81283092 0.81167173 0.81057942]\n",
      "24 day output [[0.80954957]]\n",
      "25 day input [0.85985963 0.85871724 0.86986509 0.86848334 0.87140567 0.8582063\n",
      " 0.87598078 0.87312564 0.87890644 0.95440005 0.87936351 0.88202871\n",
      " 0.87434467 0.8590238  0.86157682 0.84033575 0.80209495 0.80958961\n",
      " 0.8160946  0.80726762 0.82984379 0.81839993 0.84284934 0.83856969\n",
      " 0.84222955 0.83703633 0.82347374 0.8390312  0.83492871 0.82646272\n",
      " 0.83665701 0.84576723 0.8464481  0.85780366 0.88060697 0.88134838\n",
      " 0.8930255  0.89324764 0.9155228  0.93105859 0.93176058 0.9294347\n",
      " 0.92984956 0.93640288 0.97696622 0.88941118 0.8944228  0.87984723\n",
      " 0.8801077  0.89559573 0.89683697 0.89910786 0.90135431 0.91251161\n",
      " 0.91094548 0.91113375 0.91592655 0.92147965 0.93957568 0.9510312\n",
      " 0.9620541  0.97058396 0.9731242  0.97445152 0.97270989 0.95458832\n",
      " 0.93467291 0.9393191  0.93801899 0.93331282 0.9354843  0.9322343\n",
      " 0.91268433 0.92161682 0.91148751 0.90246782 0.9024656  0.87889867\n",
      " 0.89584398 0.90132599 0.89947218 0.89552575 0.90627208 0.90089336\n",
      " 0.91005634 0.90046073 0.93670999 0.9574329  0.96083285 0.96878957\n",
      " 0.93522383 0.91718834 0.91935093 0.91396833 0.91728275 0.92472576\n",
      " 0.92791522 0.91761875 0.92565322 0.92714327 0.91778258 0.90322479\n",
      " 0.9143632  0.93219598 0.94432572 0.95383247 0.95423233 0.952283\n",
      " 0.94186434 0.94781564 0.90935547 0.91221948 0.90925383 0.90088003\n",
      " 0.90982641 0.91382893 0.90854074 0.91344351 0.92206389 0.8965293\n",
      " 0.88622782 0.88700367 0.86859219 0.86985287 0.87887201 0.86517227\n",
      " 0.86321336 0.85847425 0.85323977 0.8488121  0.84530604 0.84232014\n",
      " 0.83950603 0.83674818 0.83408475 0.83158112 0.82926399 0.82711983\n",
      " 0.82512033 0.82324177 0.82147133 0.81980288 0.81823289 0.81675649\n",
      " 0.81536794 0.8140614  0.81283092 0.81167173 0.81057942 0.80954957]\n",
      "25 day output [[0.8085787]]\n",
      "26 day input [0.85871724 0.86986509 0.86848334 0.87140567 0.8582063  0.87598078\n",
      " 0.87312564 0.87890644 0.95440005 0.87936351 0.88202871 0.87434467\n",
      " 0.8590238  0.86157682 0.84033575 0.80209495 0.80958961 0.8160946\n",
      " 0.80726762 0.82984379 0.81839993 0.84284934 0.83856969 0.84222955\n",
      " 0.83703633 0.82347374 0.8390312  0.83492871 0.82646272 0.83665701\n",
      " 0.84576723 0.8464481  0.85780366 0.88060697 0.88134838 0.8930255\n",
      " 0.89324764 0.9155228  0.93105859 0.93176058 0.9294347  0.92984956\n",
      " 0.93640288 0.97696622 0.88941118 0.8944228  0.87984723 0.8801077\n",
      " 0.89559573 0.89683697 0.89910786 0.90135431 0.91251161 0.91094548\n",
      " 0.91113375 0.91592655 0.92147965 0.93957568 0.9510312  0.9620541\n",
      " 0.97058396 0.9731242  0.97445152 0.97270989 0.95458832 0.93467291\n",
      " 0.9393191  0.93801899 0.93331282 0.9354843  0.9322343  0.91268433\n",
      " 0.92161682 0.91148751 0.90246782 0.9024656  0.87889867 0.89584398\n",
      " 0.90132599 0.89947218 0.89552575 0.90627208 0.90089336 0.91005634\n",
      " 0.90046073 0.93670999 0.9574329  0.96083285 0.96878957 0.93522383\n",
      " 0.91718834 0.91935093 0.91396833 0.91728275 0.92472576 0.92791522\n",
      " 0.91761875 0.92565322 0.92714327 0.91778258 0.90322479 0.9143632\n",
      " 0.93219598 0.94432572 0.95383247 0.95423233 0.952283   0.94186434\n",
      " 0.94781564 0.90935547 0.91221948 0.90925383 0.90088003 0.90982641\n",
      " 0.91382893 0.90854074 0.91344351 0.92206389 0.8965293  0.88622782\n",
      " 0.88700367 0.86859219 0.86985287 0.87887201 0.86517227 0.86321336\n",
      " 0.85847425 0.85323977 0.8488121  0.84530604 0.84232014 0.83950603\n",
      " 0.83674818 0.83408475 0.83158112 0.82926399 0.82711983 0.82512033\n",
      " 0.82324177 0.82147133 0.81980288 0.81823289 0.81675649 0.81536794\n",
      " 0.8140614  0.81283092 0.81167173 0.81057942 0.80954957 0.80857873]\n",
      "26 day output [[0.8076631]]\n",
      "27 day input [0.86986509 0.86848334 0.87140567 0.8582063  0.87598078 0.87312564\n",
      " 0.87890644 0.95440005 0.87936351 0.88202871 0.87434467 0.8590238\n",
      " 0.86157682 0.84033575 0.80209495 0.80958961 0.8160946  0.80726762\n",
      " 0.82984379 0.81839993 0.84284934 0.83856969 0.84222955 0.83703633\n",
      " 0.82347374 0.8390312  0.83492871 0.82646272 0.83665701 0.84576723\n",
      " 0.8464481  0.85780366 0.88060697 0.88134838 0.8930255  0.89324764\n",
      " 0.9155228  0.93105859 0.93176058 0.9294347  0.92984956 0.93640288\n",
      " 0.97696622 0.88941118 0.8944228  0.87984723 0.8801077  0.89559573\n",
      " 0.89683697 0.89910786 0.90135431 0.91251161 0.91094548 0.91113375\n",
      " 0.91592655 0.92147965 0.93957568 0.9510312  0.9620541  0.97058396\n",
      " 0.9731242  0.97445152 0.97270989 0.95458832 0.93467291 0.9393191\n",
      " 0.93801899 0.93331282 0.9354843  0.9322343  0.91268433 0.92161682\n",
      " 0.91148751 0.90246782 0.9024656  0.87889867 0.89584398 0.90132599\n",
      " 0.89947218 0.89552575 0.90627208 0.90089336 0.91005634 0.90046073\n",
      " 0.93670999 0.9574329  0.96083285 0.96878957 0.93522383 0.91718834\n",
      " 0.91935093 0.91396833 0.91728275 0.92472576 0.92791522 0.91761875\n",
      " 0.92565322 0.92714327 0.91778258 0.90322479 0.9143632  0.93219598\n",
      " 0.94432572 0.95383247 0.95423233 0.952283   0.94186434 0.94781564\n",
      " 0.90935547 0.91221948 0.90925383 0.90088003 0.90982641 0.91382893\n",
      " 0.90854074 0.91344351 0.92206389 0.8965293  0.88622782 0.88700367\n",
      " 0.86859219 0.86985287 0.87887201 0.86517227 0.86321336 0.85847425\n",
      " 0.85323977 0.8488121  0.84530604 0.84232014 0.83950603 0.83674818\n",
      " 0.83408475 0.83158112 0.82926399 0.82711983 0.82512033 0.82324177\n",
      " 0.82147133 0.81980288 0.81823289 0.81675649 0.81536794 0.8140614\n",
      " 0.81283092 0.81167173 0.81057942 0.80954957 0.80857873 0.80766308]\n",
      "27 day output [[0.8067994]]\n",
      "28 day input [0.86848334 0.87140567 0.8582063  0.87598078 0.87312564 0.87890644\n",
      " 0.95440005 0.87936351 0.88202871 0.87434467 0.8590238  0.86157682\n",
      " 0.84033575 0.80209495 0.80958961 0.8160946  0.80726762 0.82984379\n",
      " 0.81839993 0.84284934 0.83856969 0.84222955 0.83703633 0.82347374\n",
      " 0.8390312  0.83492871 0.82646272 0.83665701 0.84576723 0.8464481\n",
      " 0.85780366 0.88060697 0.88134838 0.8930255  0.89324764 0.9155228\n",
      " 0.93105859 0.93176058 0.9294347  0.92984956 0.93640288 0.97696622\n",
      " 0.88941118 0.8944228  0.87984723 0.8801077  0.89559573 0.89683697\n",
      " 0.89910786 0.90135431 0.91251161 0.91094548 0.91113375 0.91592655\n",
      " 0.92147965 0.93957568 0.9510312  0.9620541  0.97058396 0.9731242\n",
      " 0.97445152 0.97270989 0.95458832 0.93467291 0.9393191  0.93801899\n",
      " 0.93331282 0.9354843  0.9322343  0.91268433 0.92161682 0.91148751\n",
      " 0.90246782 0.9024656  0.87889867 0.89584398 0.90132599 0.89947218\n",
      " 0.89552575 0.90627208 0.90089336 0.91005634 0.90046073 0.93670999\n",
      " 0.9574329  0.96083285 0.96878957 0.93522383 0.91718834 0.91935093\n",
      " 0.91396833 0.91728275 0.92472576 0.92791522 0.91761875 0.92565322\n",
      " 0.92714327 0.91778258 0.90322479 0.9143632  0.93219598 0.94432572\n",
      " 0.95383247 0.95423233 0.952283   0.94186434 0.94781564 0.90935547\n",
      " 0.91221948 0.90925383 0.90088003 0.90982641 0.91382893 0.90854074\n",
      " 0.91344351 0.92206389 0.8965293  0.88622782 0.88700367 0.86859219\n",
      " 0.86985287 0.87887201 0.86517227 0.86321336 0.85847425 0.85323977\n",
      " 0.8488121  0.84530604 0.84232014 0.83950603 0.83674818 0.83408475\n",
      " 0.83158112 0.82926399 0.82711983 0.82512033 0.82324177 0.82147133\n",
      " 0.81980288 0.81823289 0.81675649 0.81536794 0.8140614  0.81283092\n",
      " 0.81167173 0.81057942 0.80954957 0.80857873 0.80766308 0.80679941]\n",
      "28 day output [[0.8059844]]\n",
      "29 day input [0.87140567 0.8582063  0.87598078 0.87312564 0.87890644 0.95440005\n",
      " 0.87936351 0.88202871 0.87434467 0.8590238  0.86157682 0.84033575\n",
      " 0.80209495 0.80958961 0.8160946  0.80726762 0.82984379 0.81839993\n",
      " 0.84284934 0.83856969 0.84222955 0.83703633 0.82347374 0.8390312\n",
      " 0.83492871 0.82646272 0.83665701 0.84576723 0.8464481  0.85780366\n",
      " 0.88060697 0.88134838 0.8930255  0.89324764 0.9155228  0.93105859\n",
      " 0.93176058 0.9294347  0.92984956 0.93640288 0.97696622 0.88941118\n",
      " 0.8944228  0.87984723 0.8801077  0.89559573 0.89683697 0.89910786\n",
      " 0.90135431 0.91251161 0.91094548 0.91113375 0.91592655 0.92147965\n",
      " 0.93957568 0.9510312  0.9620541  0.97058396 0.9731242  0.97445152\n",
      " 0.97270989 0.95458832 0.93467291 0.9393191  0.93801899 0.93331282\n",
      " 0.9354843  0.9322343  0.91268433 0.92161682 0.91148751 0.90246782\n",
      " 0.9024656  0.87889867 0.89584398 0.90132599 0.89947218 0.89552575\n",
      " 0.90627208 0.90089336 0.91005634 0.90046073 0.93670999 0.9574329\n",
      " 0.96083285 0.96878957 0.93522383 0.91718834 0.91935093 0.91396833\n",
      " 0.91728275 0.92472576 0.92791522 0.91761875 0.92565322 0.92714327\n",
      " 0.91778258 0.90322479 0.9143632  0.93219598 0.94432572 0.95383247\n",
      " 0.95423233 0.952283   0.94186434 0.94781564 0.90935547 0.91221948\n",
      " 0.90925383 0.90088003 0.90982641 0.91382893 0.90854074 0.91344351\n",
      " 0.92206389 0.8965293  0.88622782 0.88700367 0.86859219 0.86985287\n",
      " 0.87887201 0.86517227 0.86321336 0.85847425 0.85323977 0.8488121\n",
      " 0.84530604 0.84232014 0.83950603 0.83674818 0.83408475 0.83158112\n",
      " 0.82926399 0.82711983 0.82512033 0.82324177 0.82147133 0.81980288\n",
      " 0.81823289 0.81675649 0.81536794 0.8140614  0.81283092 0.81167173\n",
      " 0.81057942 0.80954957 0.80857873 0.80766308 0.80679941 0.80598438]\n",
      "29 day output [[0.8052151]]\n",
      "[[0.865172266960144], [0.8632133603096008], [0.8584742546081543], [0.8532397747039795], [0.8488121032714844], [0.8453060388565063], [0.8423201441764832], [0.8395060300827026], [0.8367481827735901], [0.8340847492218018], [0.8315811157226562], [0.8292639851570129], [0.8271198272705078], [0.8251203298568726], [0.8232417702674866], [0.8214713335037231], [0.8198028802871704], [0.8182328939437866], [0.8167564868927002], [0.8153679370880127], [0.8140614032745361], [0.812830924987793], [0.8116717338562012], [0.8105794191360474], [0.8095495700836182], [0.8085787296295166], [0.807663083076477], [0.8067994117736816], [0.805984377861023], [0.8052151203155518]]\n"
     ]
    }
   ],
   "source": [
    "# prediction for next 30 days\n",
    "from numpy import array\n",
    "\n",
    "lst_output=[]\n",
    "n_steps=150\n",
    "i=0\n",
    "while(i<30):\n",
    "    \n",
    "    if(len(temp_input)>150):\n",
    "        #print(temp_input)\n",
    "        x_input=np.array(temp_input[1:])\n",
    "        print(\"{} day input {}\".format(i,x_input))\n",
    "        x_input=x_input.reshape(1,-1)\n",
    "        x_input = x_input.reshape((1, n_steps, 1))\n",
    "        #print(x_input)\n",
    "        yhat = model.predict(x_input, verbose=0)\n",
    "        print(\"{} day output {}\".format(i,yhat))\n",
    "        temp_input.extend(yhat[0].tolist())\n",
    "        temp_input=temp_input[1:]\n",
    "        #print(temp_input)\n",
    "        lst_output.extend(yhat.tolist())\n",
    "        i=i+1\n",
    "    else:\n",
    "        x_input = x_input.reshape((1, n_steps,1))\n",
    "        yhat = model.predict(x_input, verbose=0)\n",
    "        print(yhat[0])\n",
    "        temp_input.extend(yhat[0].tolist())\n",
    "        print(len(temp_input))\n",
    "        lst_output.extend(yhat.tolist())\n",
    "        i=i+1\n",
    "    \n",
    "\n",
    "print(lst_output)"
   ]
  },
  {
   "cell_type": "code",
   "execution_count": 42,
   "id": "fe6bcf85",
   "metadata": {},
   "outputs": [],
   "source": [
    "day_new=np.arange(1,151)\n",
    "day_pred=np.arange(151,181)"
   ]
  },
  {
   "cell_type": "code",
   "execution_count": 63,
   "id": "205f5212",
   "metadata": {},
   "outputs": [
    {
     "data": {
      "text/plain": [
       "array([  1,   2,   3,   4,   5,   6,   7,   8,   9,  10,  11,  12,  13,\n",
       "        14,  15,  16,  17,  18,  19,  20,  21,  22,  23,  24,  25,  26,\n",
       "        27,  28,  29,  30,  31,  32,  33,  34,  35,  36,  37,  38,  39,\n",
       "        40,  41,  42,  43,  44,  45,  46,  47,  48,  49,  50,  51,  52,\n",
       "        53,  54,  55,  56,  57,  58,  59,  60,  61,  62,  63,  64,  65,\n",
       "        66,  67,  68,  69,  70,  71,  72,  73,  74,  75,  76,  77,  78,\n",
       "        79,  80,  81,  82,  83,  84,  85,  86,  87,  88,  89,  90,  91,\n",
       "        92,  93,  94,  95,  96,  97,  98,  99, 100, 101, 102, 103, 104,\n",
       "       105, 106, 107, 108, 109, 110, 111, 112, 113, 114, 115, 116, 117,\n",
       "       118, 119, 120, 121, 122, 123, 124, 125, 126, 127, 128, 129, 130,\n",
       "       131, 132, 133, 134, 135, 136, 137, 138, 139, 140, 141, 142, 143,\n",
       "       144, 145, 146, 147, 148, 149, 150])"
      ]
     },
     "execution_count": 63,
     "metadata": {},
     "output_type": "execute_result"
    }
   ],
   "source": [
    "day_new"
   ]
  },
  {
   "cell_type": "code",
   "execution_count": 43,
   "id": "4de6d52f",
   "metadata": {},
   "outputs": [],
   "source": [
    "import matplotlib.pyplot as plt"
   ]
  },
  {
   "cell_type": "code",
   "execution_count": 44,
   "id": "2c1ef1b1",
   "metadata": {},
   "outputs": [
    {
     "data": {
      "text/plain": [
       "2769"
      ]
     },
     "execution_count": 44,
     "metadata": {},
     "output_type": "execute_result"
    }
   ],
   "source": [
    "len(df1)"
   ]
  },
  {
   "cell_type": "code",
   "execution_count": 64,
   "id": "04cda576",
   "metadata": {},
   "outputs": [
    {
     "data": {
      "text/plain": [
       "array([[84835.20133224],\n",
       "       [84658.83939936],\n",
       "       [84232.17392178],\n",
       "       [83760.90950842],\n",
       "       [83362.28270721],\n",
       "       [83046.62892308],\n",
       "       [82777.80643632],\n",
       "       [82524.44949317],\n",
       "       [82276.15829365],\n",
       "       [82036.36724024],\n",
       "       [81810.9631134 ],\n",
       "       [81602.34999487],\n",
       "       [81409.30974503],\n",
       "       [81229.29339328],\n",
       "       [81060.1651706 ],\n",
       "       [80900.77133241],\n",
       "       [80750.55915456],\n",
       "       [80609.21202807],\n",
       "       [80476.28992014],\n",
       "       [80351.27767038],\n",
       "       [80233.64938593],\n",
       "       [80122.86844139],\n",
       "       [80018.50553646],\n",
       "       [79920.16356835],\n",
       "       [79827.44543428],\n",
       "       [79740.03989153],\n",
       "       [79657.60349984],\n",
       "       [79579.84648151],\n",
       "       [79506.46832633],\n",
       "       [79437.21145411]])"
      ]
     },
     "execution_count": 64,
     "metadata": {},
     "output_type": "execute_result"
    }
   ],
   "source": [
    "scaler.inverse_transform(lst_output)"
   ]
  },
  {
   "cell_type": "code",
   "execution_count": 65,
   "id": "32854e21",
   "metadata": {},
   "outputs": [
    {
     "data": {
      "text/plain": [
       "[<matplotlib.lines.Line2D at 0x1662bcd9700>]"
      ]
     },
     "execution_count": 65,
     "metadata": {},
     "output_type": "execute_result"
    },
    {
     "data": {
      "image/png": "[encoded data removed]",
      "text/plain": [
       "<Figure size 640x480 with 1 Axes>"
      ]
     },
     "metadata": {},
     "output_type": "display_data"
    }
   ],
   "source": [
    "plt.plot(day_new,scaler.inverse_transform(df1[2619:]))\n",
    "plt.plot(day_pred,scaler.inverse_transform(lst_output),color=\"red\")"
   ]
  },
  {
   "cell_type": "code",
   "execution_count": 46,
   "id": "5b796228",
   "metadata": {},
   "outputs": [
    {
     "data": {
      "text/plain": [
       "[<matplotlib.lines.Line2D at 0x1662c133e80>]"
      ]
     },
     "execution_count": 46,
     "metadata": {},
     "output_type": "execute_result"
    },
    {
     "data": {
      "image/png": "[encoded data removed]",
      "text/plain": [
       "<Figure size 640x480 with 1 Axes>"
      ]
     },
     "metadata": {},
     "output_type": "display_data"
    }
   ],
   "source": [
    "df3=df1.tolist()\n",
    "df3.extend(lst_output)\n",
    "plt.plot(df3[1000:])"
   ]
  },
  {
   "cell_type": "code",
   "execution_count": 47,
   "id": "3db592f8",
   "metadata": {},
   "outputs": [],
   "source": [
    "df3=scaler.inverse_transform(df3).tolist()"
   ]
  },
  {
   "cell_type": "code",
   "execution_count": 48,
   "id": "94283208",
   "metadata": {},
   "outputs": [
    {
     "data": {
      "text/plain": [
       "[<matplotlib.lines.Line2D at 0x166266a3ac0>]"
      ]
     },
     "execution_count": 48,
     "metadata": {},
     "output_type": "execute_result"
    },
    {
     "data": {
      "image/png": "[encoded data removed]",
      "text/plain": [
       "<Figure size 640x480 with 1 Axes>"
      ]
     },
     "metadata": {},
     "output_type": "display_data"
    }
   ],
   "source": [
    "plt.plot(df3)"
   ]
  },
  {
   "cell_type": "code",
   "execution_count": 49,
   "id": "a2aca8c5",
   "metadata": {},
   "outputs": [
    {
     "data": {
      "text/plain": [
       "[[0.865172266960144],\n",
       " [0.8632133603096008],\n",
       " [0.8584742546081543],\n",
       " [0.8532397747039795],\n",
       " [0.8488121032714844],\n",
       " [0.8453060388565063],\n",
       " [0.8423201441764832],\n",
       " [0.8395060300827026],\n",
       " [0.8367481827735901],\n",
       " [0.8340847492218018],\n",
       " [0.8315811157226562],\n",
       " [0.8292639851570129],\n",
       " [0.8271198272705078],\n",
       " [0.8251203298568726],\n",
       " [0.8232417702674866],\n",
       " [0.8214713335037231],\n",
       " [0.8198028802871704],\n",
       " [0.8182328939437866],\n",
       " [0.8167564868927002],\n",
       " [0.8153679370880127],\n",
       " [0.8140614032745361],\n",
       " [0.812830924987793],\n",
       " [0.8116717338562012],\n",
       " [0.8105794191360474],\n",
       " [0.8095495700836182],\n",
       " [0.8085787296295166],\n",
       " [0.807663083076477],\n",
       " [0.8067994117736816],\n",
       " [0.805984377861023],\n",
       " [0.8052151203155518]]"
      ]
     },
     "execution_count": 49,
     "metadata": {},
     "output_type": "execute_result"
    }
   ],
   "source": [
    "lst_output"
   ]
  },
  {
   "cell_type": "code",
   "execution_count": 50,
   "id": "e797e23c",
   "metadata": {},
   "outputs": [
    {
     "data": {
      "text/plain": [
       "array([[84835.20133224],\n",
       "       [84658.83939936],\n",
       "       [84232.17392178],\n",
       "       [83760.90950842],\n",
       "       [83362.28270721],\n",
       "       [83046.62892308],\n",
       "       [82777.80643632],\n",
       "       [82524.44949317],\n",
       "       [82276.15829365],\n",
       "       [82036.36724024],\n",
       "       [81810.9631134 ],\n",
       "       [81602.34999487],\n",
       "       [81409.30974503],\n",
       "       [81229.29339328],\n",
       "       [81060.1651706 ],\n",
       "       [80900.77133241],\n",
       "       [80750.55915456],\n",
       "       [80609.21202807],\n",
       "       [80476.28992014],\n",
       "       [80351.27767038],\n",
       "       [80233.64938593],\n",
       "       [80122.86844139],\n",
       "       [80018.50553646],\n",
       "       [79920.16356835],\n",
       "       [79827.44543428],\n",
       "       [79740.03989153],\n",
       "       [79657.60349984],\n",
       "       [79579.84648151],\n",
       "       [79506.46832633],\n",
       "       [79437.21145411]])"
      ]
     },
     "execution_count": 50,
     "metadata": {},
     "output_type": "execute_result"
    }
   ],
   "source": [
    "fore=scaler.inverse_transform(lst_output)\n",
    "fore"
   ]
  },
  {
   "cell_type": "code",
   "execution_count": 66,
   "id": "7af8dfe4",
   "metadata": {},
   "outputs": [
    {
     "data": {
      "text/plain": [
       "[<matplotlib.lines.Line2D at 0x1662c0fcc70>]"
      ]
     },
     "execution_count": 66,
     "metadata": {},
     "output_type": "execute_result"
    },
    {
     "data": {
      "image/png": "[encoded data removed]",
      "text/plain": [
       "<Figure size 640x480 with 1 Axes>"
      ]
     },
     "metadata": {},
     "output_type": "display_data"
    }
   ],
   "source": [
    "plt.plot(fore)"
   ]
  },
  {
   "cell_type": "code",
   "execution_count": null,
   "id": "704ad332",
   "metadata": {},
   "outputs": [],
   "source": []
  }
 ],
 "metadata": {
  "kernelspec": {
   "display_name": "Python 3 (ipykernel)",
   "language": "python",
   "name": "python3"
  },
  "language_info": {
   "codemirror_mode": {
    "name": "ipython",
    "version": 3
   },
   "file_extension": ".py",
   "mimetype": "text/x-python",
   "name": "python",
   "nbconvert_exporter": "python",
   "pygments_lexer": "ipython3",
   "version": "3.9.13"
  }
 },
 "nbformat": 4,
 "nbformat_minor": 5
}
